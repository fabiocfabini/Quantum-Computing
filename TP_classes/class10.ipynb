{
 "cells": [
  {
   "cell_type": "markdown",
   "id": "e8dc7484",
   "metadata": {},
   "source": [
    "# Class 10 "
   ]
  },
  {
   "cell_type": "markdown",
   "id": "sized-meter",
   "metadata": {},
   "source": [
    "\n",
    "## Contents\n",
    "\n",
    "\n",
    "1. [Quantum Fourier Transform](#qft)\n",
    "2. [Quantum Phase Estimation](#qpe)\n",
    "\n"
   ]
  },
  {
   "cell_type": "markdown",
   "id": "appointed-dylan",
   "metadata": {},
   "source": [
    "**Module Imports**"
   ]
  },
  {
   "cell_type": "code",
   "execution_count": 2,
   "id": "chinese-intermediate",
   "metadata": {},
   "outputs": [],
   "source": [
    "import numpy as np\n",
    "import matplotlib.pyplot as plt\n",
    "%matplotlib inline\n",
    "\n",
    "# importing Qiskit\n",
    "from qiskit import Aer, IBMQ\n",
    "from qiskit import QuantumCircuit, ClassicalRegister, QuantumRegister\n",
    "from qiskit import execute, transpile\n",
    "\n",
    "from qiskit.tools.visualization import plot_histogram\n",
    "\n",
    "#IBMQ.load_account()\n",
    "\n",
    "import math\n",
    "from math import pi"
   ]
  },
  {
   "cell_type": "markdown",
   "id": "capable-hospital",
   "metadata": {},
   "source": [
    "\n",
    "## 1. Quantum Fourier Transform<a id='qft'></a>\n",
    "\n",
    "&nbsp;\n",
    "\n",
    "The quantum Fourier transform is analogue to the Discrete Fourier Transform (DFT). Similarly to the classical case, it is a very useful mathematical tool, and a building block in many quantum algorithms, such as quantum phase estimation, computing the discrete logarithm, and Shor's algorithm for factoring.\n",
    "\n",
    "&nbsp;\n",
    "\n",
    "### (Classical) Fourier Transform\n",
    "\n",
    "In modern science and engineering, the Fourier transform is essential for signal processing and communications.\n",
    "\n",
    "The FT allows us to extract the underlying periodic behaviour of a function, by decomposing it into its constituent frequencies.\n",
    "\n",
    "&nbsp;\n",
    "\n",
    "<div class=\"alert alert-block alert-info\">\n",
    "\n",
    "**Example: Fourier transform for signal processing**\n",
    "\n",
    "&nbsp;\n",
    "\n",
    "<img src=\"https://terpconnect.umd.edu/~toh/spectrum/iFilterAnimation.gif\" alt=\"Note: In order for images to show up in this jupyter notebook you need to select File => Trusted Notebook\" width=\"800 px\" align=\"center\">\n",
    "\n",
    "<sup>**a)** Take a sinusoidal signal with high frequency noise; **b)** Apply the Fourier transform, getting a frequency spectrum; **c)** Apply the inverse Fourier transform to give a clean set of data.</sup>\n",
    "\n",
    "</div>\n",
    "\n",
    "&nbsp;\n",
    "\n",
    "### Discrete Fourier Transform\n",
    "\n",
    "The DFT is a version of the Fourier transform that works on discrete data sets.\n",
    "\n",
    "The discrete Fourier transform, $\\tilde{f}$ of a discrete function, $f = f_1 , \\cdots, f_N$ is given by\n",
    "\n",
    "$$ \\tilde{f}_k \\equiv \\frac{1}{\\sqrt{N}} \\sum^{N-1}_{j=0} e^{2\\pi ijk/N} f_j$$\n",
    "\n",
    "The inverse Fourier transform is expressed as\n",
    "\n",
    "$$ f_j \\equiv \\frac{1}{\\sqrt{N}} \\sum^{N-1}_{j=0} e^{-2\\pi ijk/N} \\tilde{f}_k$$\n",
    "\n",
    "With $f_j$ and $\\tilde{f}_k$ being complex numbers, and indices $j, k \\in \\{0, 1, \\cdots, N-1\\}$\n",
    "\n",
    "&nbsp;\n",
    "    "
   ]
  },
  {
   "cell_type": "markdown",
   "id": "exotic-trinidad",
   "metadata": {},
   "source": [
    "### Quantum Fourier tranform\n",
    "\n",
    "Qubit states are represented by vectors of complex numbers, so it makes sense that the DFT can be applied to them.\n",
    "\n",
    "Given a state vector:\n",
    "\n",
    "$$ | \\psi \\rangle = \\sum^{N-1}_{j=0} a_j |j\\rangle = \\begin{pmatrix}\n",
    "a_0\\\\ \n",
    "\\vdots\\\\ \n",
    "a_{N-1}\n",
    "\\end{pmatrix}$$\n",
    "\n",
    "The DFT (which we will now call the quantum Fourier transform, or QFT) can be computed over the _amplitudes_ of the quantum state\n",
    "\n",
    "$$ \\sum_j \\alpha_j |j\\rangle \\rightarrow \\sum_k \\tilde{\\alpha}_k |k \\rangle$$ where:\n",
    "\n",
    "$$\\tilde{\\alpha}_k \\equiv \\frac{1}{\\sqrt{N}} \\sum^{N-1}_{j=0} e^{2\\pi ijk/N} \\alpha_k$$\n",
    "\n",
    "&nbsp;\n",
    "\n",
    "We observe that the amplitudes $\\tilde{\\alpha}_k$ are linear in the original $\\alpha_j$. So there is a linear operator $\\hat{F}$ which implements the transform.\n",
    "\n",
    "We can write the matrix $\\hat{F}$ in outer product notation:\n",
    "\n",
    "&nbsp;\n",
    "\n",
    "$$\\hat{F} = \\sum_{j,k=0}^{N-1} \\frac{e^{2\\pi ijk/N}}{\\sqrt{N}} |k \\rangle \\langle j |$$\n",
    "\n",
    "&nbsp;\n",
    "\n",
    "The Fourier transform lets us define a new basis $|\\hat{x}\\rangle = \\hat{F}|x\\rangle$, where $\\{ |x\\rangle\\}$ is the usual computational basis - every vector $|\\hat{x}\\rangle$ is an equally weighted superposition of all the computational basis states.\n",
    "\n",
    "&nbsp;\n",
    "\n",
    "<div class=\"alert alert-block alert-info\">\n",
    "    \n",
    "**Position and Momentum**: \n",
    "\n",
    "&nbsp;\n",
    "\n",
    "* From earlier classes, recall the change of basis for a single-qubit state. What operation may be performed to change it between the computational and superposition basis?\n",
    "\n",
    "&nbsp;\n",
    "\n",
    "* The Hadamard transform also turns computational basis states into equally weighted superpositions of all states. But it leaves all amplitudes real, while the amplitudes of $| \\tilde{x}\\rangle$ are complex. And it is its own inverse, while $\\hat{F} \\neq \\hat{F}^\\dagger$\n",
    "\n",
    "&nbsp;\n",
    "\n",
    "* In physics, the relationship of this basis to the computational basis is analogous to that between the _momentum_ and _position_ bases of a particle.\n",
    "\n",
    "    \n",
    "</div>"
   ]
  },
  {
   "cell_type": "markdown",
   "id": "normal-italic",
   "metadata": {},
   "source": [
    "### QFT in the quantum circuit model of computation\n",
    "\n",
    "&nbsp;\n",
    "\n",
    "For the case of $n$ qubits, the vector describing a quantum state has dimension $N=2^n$. Since the QFT is an unitary operator, it can be implemented in a quantum circuit. Although there is no guarantee that such a circuit would be efficient (i.e. would not scale exponentially with the number of qubits), an efficient circuit _does_ exist.\n",
    "\n",
    "&nbsp;\n",
    "\n",
    "The key is to notice that the states $| \\hat{j} \\rangle$ can be written in a product form:\n",
    "\n",
    "* Let the binary expression for $j$ be $j_1 j_2 \\cdots j_n$, where:\n",
    "\n",
    "$$ j = j_1 2^{n-1} \\, +\\, j_2 2^{n-2} \\,+\\, \\cdots \\,+\\, j_n$$\n",
    "\n",
    "* Admit the following notation for binary fractions:\n",
    "\n",
    "$$ 0.j_1 j_2 \\cdots j_n = j_1 /2 + j_2 /4 + \\cdots + j_n /2^n$$\n",
    "\n",
    "* Then the state $|\\hat{j} \\rangle$ can be written as:\n",
    "\n",
    "$$ |\\hat{j} \\rangle  = \\frac{1}{2^n/2} (|0\\rangle + e^{2\\pi i 0.j_n }| 1\\rangle) \\, \\otimes \\, (|0\\rangle + e^{2\\pi i 0.j_{n-1}j_n }| 1\\rangle) \\, \\otimes \\, \\cdots \\, \\otimes \\, (|0\\rangle + e^{2\\pi i 0.j_1j_2\\cdots j_n }| 1\\rangle)$$\n",
    "\n",
    "&nbsp;\n",
    "\n",
    "A unitary that performs the transformation\n",
    "\n",
    "$$ |0\\rangle \\rightarrow \\frac {1}{\\sqrt{2}}(|0\\rangle + e^{i\\theta}|1\\rangle) \\; ;\\; |1\\rangle \\rightarrow \\frac {1}{\\sqrt{2}}(|0\\rangle - e^{i\\theta}|1\\rangle)$$\n",
    "\n",
    "may be decomposed into an Hadamard gate followed by a $Z$-rotation by $\\theta$.\n",
    "\n",
    "**However**, in the expression above, the rotation depends on the values of other bits. We can expect to build the QFT out of Hadamards and controlled-phase rotation gates.\n",
    "\n",
    "&nbsp;\n",
    "\n",
    "<img src=\"https://upload.wikimedia.org/wikipedia/commons/thumb/6/61/Q_fourier_nqubits.png/1920px-Q_fourier_nqubits.png\" alt=\"Note: In order for images to show up in this jupyter notebook you need to select File => Trusted Notebook\" width=\"700 px\" align=\"center\">\n",
    "\n",
    "&nbsp;\n",
    "\n"
   ]
  },
  {
   "cell_type": "raw",
   "id": "nasty-tongue",
   "metadata": {},
   "source": [
    "qr.__len__() # = 4\n",
    "\n",
    "# THEORIC INPUT STATE (FIGURE ABOVE)\n",
    "|q1 q2 q3 q4>\n",
    "\n",
    "# QISKIT INPUT STATE\n",
    "|q3 q2 q1 q0>"
   ]
  },
  {
   "cell_type": "markdown",
   "id": "structural-absorption",
   "metadata": {},
   "source": [
    "<div class=\"alert alert-block alert-danger\">\n",
    "\n",
    "**Attention**\n",
    "\n",
    "* In the figure above, notice the order of the input qubits (in comparison with Qiskit's circuit drawer);\n",
    "\n",
    "* Notice how after the QFT, the qubits of the transformed state are in reverse order. What can be done to correct this?\n",
    "\n",
    "</div>\n",
    "\n",
    "&nbsp;\n",
    "\n",
    "<div class=\"alert alert-block alert-info\">\n",
    "    \n",
    "**Controlled phase rotation in Qiskit**\n",
    "\n",
    "In Qiskit, the phase rotation gate, $u1(\\lambda)$, is defined as:\n",
    "\n",
    "$$u1(\\lambda) = \\begin{pmatrix} 1 & 0\\\\ 0 & e^{i\\lambda} \\end{pmatrix}$$\n",
    "\n",
    "Admit $\\lambda = 2\\pi/2^k$ so that we can define a rotation operator:\n",
    "\n",
    "$$R_k = \\begin{pmatrix} 1 & 0\\\\ 0 & e^{2\\pi i /2^k} \\end{pmatrix}$$\n",
    "\n",
    "The controlled-$R_k$ gate performs this rotation only if a control qubit is $|1\\rangle$ rather than $|0\\rangle$:\n",
    "\n",
    "$$CR_k = \\begin{pmatrix} 1 & 0 & 0 & 0\\\\ 0 & 1 & 0 & 0\\\\ 0 & 0 & 1 & 0\\\\ 0 & 0 & 0 & e^{2\\pi i /2^k} \\end{pmatrix}$$\n",
    "\n",
    "\n",
    "&nbsp;\n",
    "\n",
    "A controlled-$u1$ gate may be implemented in Qiskit with the instruction `cp(theta, ctrl, trg)`.\n",
    "</div>"
   ]
  },
  {
   "cell_type": "code",
   "execution_count": 3,
   "id": "yellow-master",
   "metadata": {},
   "outputs": [],
   "source": [
    "# Plot results\n",
    "def show_results(D):\n",
    "    # D is a dictionary with classical bits as keys and count as value\n",
    "    # example: D = {'000': 497, '001': 527}\n",
    "    plt.bar(range(len(D)), list(D.values()), align='center')\n",
    "    plt.xticks(range(len(D)), list(D.keys()))\n",
    "    plt.show()\n",
    "\n",
    "# Execute circuit, display a histogram of the results\n",
    "def execute_locally(qc, draw_circuit=False):\n",
    "    # Compile and run the Quantum circuit on a simulator backend\n",
    "    backend_sim = Aer.get_backend('qasm_simulator')\n",
    "    job_sim = execute(qc, backend_sim)\n",
    "    result_sim = job_sim.result()\n",
    "    result_counts = result_sim.get_counts(qc)\n",
    "    \n",
    "    # Print the results\n",
    "    print(\"simulation: \\n\\n\", result_counts)\n",
    "    show_results(result_counts)\n",
    "    \n",
    "    return result_counts"
   ]
  },
  {
   "cell_type": "markdown",
   "id": "arctic-catering",
   "metadata": {},
   "source": [
    "<div class=\"alert alert-block alert-warning\">\n",
    "\n",
    "**Exercise - implementing the QFT**\n",
    "\n",
    "&nbsp;\n",
    "\n",
    "1. Implement a function `qftransform (circuit, qr, swap=True)` to perform the QFT over a register `qr`. The function should be able to ignore the swapping operations at the end when called with `swap=False`.\n",
    "\n",
    "&nbsp;\n",
    "\n",
    "2. How many controlled-$R_k$ gates are performed as a function of qubit number $n$? Does the circuit scale efficiently?\n",
    "\n",
    "</div>"
   ]
  },
  {
   "cell_type": "code",
   "execution_count": 87,
   "id": "returning-musician",
   "metadata": {
    "scrolled": true
   },
   "outputs": [
    {
     "data": {
      "image/png": "[encoded data removed]",
      "text/plain": [
       "<Figure size 2014.81x367.889 with 1 Axes>"
      ]
     },
     "execution_count": 87,
     "metadata": {},
     "output_type": "execute_result"
    }
   ],
   "source": [
    "def qftransform(circuit: QuantumCircuit, qr: QuantumRegister, swap: bool = True):\n",
    "    n = len(qr)\n",
    "    for j in range(n):\n",
    "        for k in range(j):\n",
    "            circuit.cp(pi/float(2**(j-k)), qr[j], qr[k])\n",
    "        circuit.h(qr[j])\n",
    "        circuit.barrier()\n",
    "    if swap:\n",
    "        for qubit in range(n//2):\n",
    "            circuit.swap(qr[qubit], qr[n-qubit-1])\n",
    "\n",
    "\n",
    "qr=QuantumRegister(4)\n",
    "qc=QuantumCircuit(qr)\n",
    "\n",
    "qftransform(qc, qr)\n",
    "\n",
    "qc.draw(output='mpl', scale=1)"
   ]
  },
  {
   "cell_type": "markdown",
   "id": "f96d6ea1",
   "metadata": {},
   "source": []
  },
  {
   "cell_type": "markdown",
   "id": "polyphonic-nelson",
   "metadata": {},
   "source": [
    "## 2. Quantum Phase Estimation<a id='qpe'></a>\n",
    "\n",
    "&nbsp;\n",
    "\n",
    "The phase estimation algorithm is a solution to a rather specific problem. However, similarly to the QFT and Grover's search algorithm, it turns out to be useful as a building block to several other algorithms to solve more general and important problems.\n",
    "\n",
    "Suppose we have a unitary operator $\\hat{U}$ operating on $n$-qubits, with a known eigenstate$^1$ $| \\psi \\rangle$ and an associated unknown eigenvalue $e^{i \\theta{\\psi}}$. We want to find the eigenvalue / phase, which means finding phase $\\theta{\\psi}$ with $m$-bits of precision.\n",
    "\n",
    "\n",
    " $$U |u \\rangle = e^{i \\theta_{\\psi}}|u \\rangle$$\n",
    "\n",
    "\n",
    "We might try to prepare $n$ qubits in the state $|\\theta{\\psi} \\rangle$ and carry out the unitary transformation $\\hat{U}$ on them:\n",
    "\n",
    "\n",
    "<img src=\"https://i.stack.imgur.com/9AFj7.png\" alt=\"Note: In order for images to show up in this jupyter notebook you need to select File => Trusted Notebook\" width=\"100 px\" align=\"center\"> \n",
    "\n",
    "\n",
    "$^1$: An eigenstate is a quantum mechanical state whose wave function is an eigenvector that corresponds to a physical quantity."
   ]
  },
  {
   "cell_type": "markdown",
   "id": "advanced-leader",
   "metadata": {},
   "source": [
    "<div class=\"alert alert-block alert-info\">\n",
    "    \n",
    "**Question**: is there a measurement on the bits which will give us information about the phase $\\phi$?\n",
    "\n",
    "The answer is **no**: $\\hat{U}$ just produces an overall phase on the state, with no observable consequences.\n",
    "\n",
    "</div>\n",
    "\n",
    "&nbsp;\n",
    "\n",
    "Before we look into a more sophisticated approach to the problem, it's important to understand **phase kickback**."
   ]
  },
  {
   "cell_type": "markdown",
   "id": "initial-egypt",
   "metadata": {},
   "source": [
    "### Phase kickback\n",
    "\n",
    "&nbsp;\n",
    "\n",
    "A key part of understanding the phase kickback is that $|\\psi\\rangle$ is an eigenvector of the operator $U$ with an eigenvalue of $e^{2\\pi i \\phi}$. In other words, $U|\\psi\\rangle = e^{2\\pi i \\phi}|\\psi\\rangle$, where $\\phi$ is the phase that we are interested in 'kicking back'. A small example:\n",
    "\n",
    "<img src=\"https://miro.medium.com/max/3600/1*DudEik8tsL5rl1aq-DUh-A.jpeg\" alt=\"Note: In order for images to show up in this jupyter notebook you need to select File => Trusted Notebook\" width=\"500 px\" align=\"center\"> \n",
    "\n",
    "&nbsp;\n",
    "\n",
    "The system's state starts simply $|0\\rangle|\\psi\\rangle$. \n",
    "\n",
    "&nbsp;\n",
    "\n",
    "**After the first Hadamard**, the Hadamard operator has converted $|0\\rangle$ into $H|0\\rangle = |+\\rangle = \\frac{|0\\rangle+|1\\rangle}{\\sqrt{2}} $. Thus, at point B, the whole system is in the state\n",
    "\n",
    "$$\\frac{|0\\rangle+|1\\rangle}{\\sqrt{2}}|\\psi\\rangle = \\frac{|0\\rangle|\\psi\\rangle+|1\\rangle|\\psi\\rangle}{\\sqrt{2}}$$\n",
    "\n",
    "&nbsp;\n",
    "\n",
    "**After the CU** , the system is in the state \n",
    "\n",
    "&nbsp;\n",
    "\n",
    "$$\\frac{|0\\rangle|\\psi\\rangle+|1\\rangle U|\\psi\\rangle}{\\sqrt{2}} = \\frac{|0\\rangle+e^{i \\theta_{\\psi}}|1\\rangle}{\\sqrt{2}}|\\psi\\rangle$$\n",
    "\n",
    "&nbsp;\n",
    "\n",
    "Note how the state $|\\psi\\rangle$ remains unchanged. This happens because applying $\\hat{U}$ to $|\\psi \\rangle$ results in a \"multiple\" $e^{ i \\theta{\\psi}}$ of $|\\psi \\rangle$, which can be factored out. **This is only possible since we admit that $|\\psi\\rangle$ is an eigenstate of $\\hat{U}$**.\n",
    "\n",
    "&nbsp;\n",
    "\n",
    "Now, let's consider higher powers of $U$, e.g. $U^2$. \n",
    "\n",
    "In this case, $|\\psi\\rangle$ is still an eigenvector of $U^2$.\n",
    "\n",
    "More generally, $U^x |\\psi\\rangle = e^{x i \\theta{\\psi}}|\\psi\\rangle$ . \n",
    "\n",
    "In other words, **an eigenvector of $U$ is also an eigenvector of $U^x$; just with an eigenvalue that is raised to the power $x$**.\n",
    "\n",
    "Thus, for a general $U^{2^k}$, after the CU, the system would be in the state\n",
    "\n",
    "$$\\frac{|0\\rangle|\\psi\\rangle+|1\\rangle U^{2^k}|\\psi\\rangle}{\\sqrt{2}} = \\frac{|0\\rangle+e^{i 2^k \\theta{\\psi}}|1\\rangle}{\\sqrt{2}}|\\psi\\rangle$$"
   ]
  },
  {
   "cell_type": "markdown",
   "id": "proprietary-actor",
   "metadata": {},
   "source": [
    "### Phase estimation algorithm\n",
    "\n",
    "&nbsp;\n",
    "\n",
    "The first part of the phase estimation algorithm consists in a paralell application of the phase kickback technique detailed above, to successive powers of $U$:\n",
    "\n",
    "&nbsp;\n",
    "\n",
    "<img src=\"https://qiskit.org/textbook/ch-algorithms/images/qpe_tex_qz.png\" alt=\"Note: In order for images to show up in this jupyter notebook you need to select File => Trusted Notebook\" width=\"600 px\" align=\"center\"> \n",
    "\n",
    "&nbsp;\n",
    "\n",
    "The complete phase estimation procedure is as follows:\n",
    "\n",
    "1. Prepare the $t$-bit control register in state $|0 \\rangle$, and the target register in state $|u\\rangle$ (eigenstate of $U$);\n",
    "\n",
    "2. Perform Hadamards on the control bits.\n",
    "\n",
    "3. Apply a controlled-$\\hat{U}^{2^j}$, from the $j$th control bit onto the n target bits for each of the control q-bits in succession.\n",
    "\n",
    "4. Perform an **inverse** Fourier transform on the $t$ control bits and measure them in the computational basis. The measured bit values $\\phi_1, \\cdots, \\phi_n$ give an estimate of the phase $\\phi \\approx 0.\\phi_1 \\cdots \\phi_n$, or $\\phi \\approx \\frac{\\phi_1}{2}+ \\cdots + \\frac{\\phi_n}{2^n}$."
   ]
  },
  {
   "cell_type": "markdown",
   "id": "pregnant-construction",
   "metadata": {},
   "source": [
    "<div class=\"alert alert-block alert-warning\">\n",
    "\n",
    "**Exercise - Estimate the Phase of T $|1\\rangle$**\n",
    "\n",
    "&nbsp;\n",
    "\n",
    "1. Implement the phase estimation algorithm to estimate, **to 3 bits of precision**, the phase of $T |1\\rangle = e^{\\frac{i \\pi}{4}}|1\\rangle$\n",
    "\n",
    "Since we are looking for $\\theta$ in $T |1\\rangle = e^{2 i \\pi \\theta} |1\\rangle$ we expect to find $\\theta = \\frac{1}{8}$\n",
    "\n",
    "2. What is the result for eigenstate $|0 \\rangle$?\n",
    "\n",
    "&nbsp;\n",
    "    \n",
    "**Tip:** You can use `qc.inverse()` [qiskit.circuit.QuantumCircuit.inverse](https://qiskit.org/documentation/stubs/qiskit.circuit.QuantumCircuit.inverse.html) for the qft_dagger\n",
    "\n",
    "</div>"
   ]
  },
  {
   "cell_type": "code",
   "execution_count": 121,
   "id": "decimal-score",
   "metadata": {},
   "outputs": [],
   "source": [
    "def qft_dagger(qc: QuantumCircuit, n: int):\n",
    "    for qubit in range(n//2):\n",
    "        qc.swap(qubit, n-qubit-1)\n",
    "    qc.barrier()\n",
    "    for j in reversed(range(n)):\n",
    "        qc.h(j)\n",
    "        for k in reversed(range(j)):\n",
    "            qc.cp(-pi/float(2**(j-k)), k, j)\n",
    "        qc.barrier()"
   ]
  },
  {
   "cell_type": "code",
   "execution_count": 122,
   "id": "revolutionary-magnet",
   "metadata": {},
   "outputs": [
    {
     "data": {
      "image/png": "[encoded data removed]",
      "text/plain": [
       "<Figure size 1680.17x367.889 with 1 Axes>"
      ]
     },
     "execution_count": 122,
     "metadata": {},
     "output_type": "execute_result"
    }
   ],
   "source": [
    "n=2\n",
    "qctrl = QuantumRegister(n)\n",
    "qtrg= QuantumRegister(1)\n",
    "cr = ClassicalRegister(n)\n",
    "\n",
    "qc = QuantumCircuit(qctrl, qtrg, cr)\n",
    "\n",
    "qftransform(qc, qctrl)\n",
    "qc.barrier()\n",
    "# Apply inverse QFT\n",
    "qft_dagger(qc, n)\n",
    "\n",
    "# Measure\n",
    "qc.measure(qctrl, cr)\n",
    "\n",
    "\n",
    "\n",
    "\n",
    "qc.draw(output='mpl')"
   ]
  },
  {
   "cell_type": "code",
   "execution_count": 116,
   "id": "bronze-prize",
   "metadata": {
    "scrolled": true
   },
   "outputs": [
    {
     "name": "stdout",
     "output_type": "stream",
     "text": [
      "simulation: \n",
      "\n",
      " {'00': 1024}\n"
     ]
    },
    {
     "data": {
      "image/png": "[encoded data removed]",
      "text/plain": [
       "<Figure size 640x480 with 1 Axes>"
      ]
     },
     "metadata": {},
     "output_type": "display_data"
    }
   ],
   "source": [
    "a = execute_locally(qc)"
   ]
  },
  {
   "cell_type": "code",
   "execution_count": 117,
   "id": "respiratory-sensitivity",
   "metadata": {},
   "outputs": [],
   "source": [
    "def binaryToDecimal(binary):\n",
    "    binary1 = binary\n",
    "    decimal, i, n = 0, 0, 0\n",
    "    while(binary != 0):\n",
    "        dec = binary % 10\n",
    "        decimal = decimal + dec * pow(2, i)\n",
    "        binary = binary//10\n",
    "        i += 1\n",
    "    return(decimal)    "
   ]
  },
  {
   "cell_type": "code",
   "execution_count": 118,
   "id": "prescription-possession",
   "metadata": {},
   "outputs": [
    {
     "name": "stdout",
     "output_type": "stream",
     "text": [
      "0.0\n"
     ]
    }
   ],
   "source": [
    "key = list(a.keys())[0]\n",
    "r = binaryToDecimal(int(key))\n",
    "theta= r/(2**n)\n",
    "\n",
    "print(theta)"
   ]
  },
  {
   "cell_type": "markdown",
   "id": "8327b78f",
   "metadata": {},
   "source": []
  },
  {
   "cell_type": "markdown",
   "id": "union-multiple",
   "metadata": {},
   "source": [
    "<div class=\"alert alert-block alert-warning\">\n",
    "\n",
    "**Exercise - Implementing the phase estimation algorithm**\n",
    "\n",
    "&nbsp;\n",
    "\n",
    "Implement a function `phase_est(qc, qr_ctrl, qr_trg, theta, phi, lambda, n)` to create a phase estimation circuit in `qc` with `n` bits of precision, for a general single-qubit operation\n",
    "\n",
    "&nbsp;\n",
    "\n",
    "$$\n",
    "u_3(\\theta, \\phi, \\lambda) = \n",
    "\t    \\begin{pmatrix}\n",
    "        \\cos{(\\theta/2)} & -e^{i\\lambda}\\sin{(\\theta/2)}\\\\ \n",
    "        e^{i\\phi}\\sin{(\\theta/2)} & e^{i(\\lambda + \\phi)}\\cos{(\\theta/2)}\n",
    "        \\end{pmatrix}\n",
    "$$\n",
    "\n",
    "&nbsp;\n",
    "\n",
    "**Note**: The algorithm can be tested by defining an eigenstate `psi` of $u_3$ as a vector of complex coefficients. The state can be created using `qc.initialize(psi, qubit)`.\n",
    "\n",
    "&nbsp;\n",
    "\n",
    "</div>"
   ]
  },
  {
   "cell_type": "code",
   "execution_count": 146,
   "id": "impossible-expert",
   "metadata": {},
   "outputs": [],
   "source": [
    "#qc.cu(theta, phi, lambda, 0, ctrl, trg)\n",
    "def phase_est(qc, qr_ctrl, qr_trg, theta, phi, lamda):\n",
    "    \n",
    "    qc.h(qr_ctrl)\n",
    "\n",
    "    # ciclo para implementar as potências do hamiltoniano\n",
    "    repetitions = 1\n",
    "    for counting_qubit in range(len(qr_ctrl)):\n",
    "        for i in range(repetitions):\n",
    "            qc.cu(theta, phi, lamda,0,qr_ctrl[counting_qubit], qr_trg[0])\n",
    "        repetitions *= 2\n",
    "\n",
    "    qc.barrier()\n",
    "    \n",
    "    qft_dagger(qc, len(qr_ctrl))"
   ]
  },
  {
   "cell_type": "code",
   "execution_count": 149,
   "id": "narrative-functionality",
   "metadata": {
    "scrolled": false
   },
   "outputs": [
    {
     "data": {
      "image/png": "[encoded data removed]",
      "text/plain": [
       "<Figure size 2239.6x953.167 with 1 Axes>"
      ]
     },
     "execution_count": 149,
     "metadata": {},
     "output_type": "execute_result"
    }
   ],
   "source": [
    "n=3\n",
    "q_ctrl=QuantumRegister(n, \"ctrl\")\n",
    "q_trg=QuantumRegister(1, \"trgt\")\n",
    "cr=ClassicalRegister(n)\n",
    "qc=QuantumCircuit(q_ctrl, q_trg, cr)\n",
    "\n",
    "phase_est(qc, q_ctrl, q_trg, pi/2, pi/2, pi/2)\n",
    "\n",
    "qc.measure(q_ctrl, cr)\n",
    "\n",
    "qc.draw(output='mpl')"
   ]
  },
  {
   "cell_type": "markdown",
   "id": "8dff18f2",
   "metadata": {},
   "source": [
    "**Refs:**\n",
    "* [Qiskit QFT](https://qiskit.org/textbook/ch-algorithms/quantum-fourier-transform.html)\n",
    "* [Qiskit QPE](https://qiskit.org/textbook/ch-algorithms/quantum-phase-estimation.html)\n",
    "* [Qiskit QFT and QPE part 1](https://www.youtube.com/watch?v=mAHC1dWKNYE)\n",
    "* [Qiskit QFT and QPE part 2](https://www.youtube.com/watch?v=pq2jkfJlLmY)\n",
    "* [Qiskit QFT and QPE part 3](https://www.youtube.com/watch?v=5kcoaanYyZw)"
   ]
  }
 ],
 "metadata": {
  "kernelspec": {
   "display_name": "Python 3.10.6 ('envQC': venv)",
   "language": "python",
   "name": "python3"
  },
  "language_info": {
   "codemirror_mode": {
    "name": "ipython",
    "version": 3
   },
   "file_extension": ".py",
   "mimetype": "text/x-python",
   "name": "python",
   "nbconvert_exporter": "python",
   "pygments_lexer": "ipython3",
   "version": "3.10.6"
  },
  "vscode": {
   "interpreter": {
    "hash": "23855d5a0fae6cecd711e5c1c265dda84f234bf4dc5d2439a1556c4ec887cacb"
   }
  }
 },
 "nbformat": 4,
 "nbformat_minor": 5
}
