{
 "cells": [
  {
   "cell_type": "markdown",
   "id": "1392ebd7",
   "metadata": {},
   "source": [
    "&nbsp;\n",
    "\n",
    "# IBM Q Backends and Quantum Superdense Coding\n",
    "\n",
    "&nbsp;"
   ]
  },
  {
   "cell_type": "markdown",
   "id": "0663b4b4",
   "metadata": {},
   "source": [
    "## Contents\n",
    "\n",
    "&nbsp;\n",
    "\n",
    "1. [Working with the IBMQ backends](#ibmq)\n",
    "    \n",
    "    1.1 [Experimental properties](#exp)\n",
    "    \n",
    "    1.2 [Interactive tools](#ipywid)\n",
    "    \n",
    "    1.3 [Quantum half-adder, revisited](#qha)\n",
    "    \n",
    "    \n",
    "2. [Superdense coding](#superdense)\n",
    "\n",
    "&nbsp;"
   ]
  },
  {
   "cell_type": "markdown",
   "id": "64210c1c",
   "metadata": {},
   "source": [
    "# 1. Working with the IBMQ backends<a id='ibmq'></a>\n",
    "\n",
    "&nbsp;\n",
    "\n",
    "#### Loading the IBMQ account\n",
    "\n",
    "\n",
    "The `IBMQ` module of Qiskit provides the framework to work with the free-access quantum devices that are currently available.\n",
    "\n",
    "<div class=\"alert alert-block alert-info\">\n",
    "    \n",
    "**Managing your [access](https://quantum-computing.ibm.com/docs/manage/account/ibmq) token**\n",
    "\n",
    "&nbsp;\n",
    "\n",
    "\n",
    "Before working with the backends for the first time, a `TOKEN` from an [IBM Quantum Experience](https://quantum-computing.ibm.com/) account is necessary. After creating and logging into an account, the token string can be copied from:\n",
    "\n",
    "&nbsp;\n",
    "\n",
    "<p style=\"text-align: center;\"><a href=\"https://quantum-computing.ibm.com/account\">https://quantum-computing.ibm.com/account</a></p>\n",
    "\n",
    "&nbsp;\n",
    "\n",
    "This string is used as a personal credential for handling communication with the quantum processors. There are several commands to manage credentials:\n",
    "\n",
    "- `enable_account('TOKEN')`: Enable account in the current session.\n",
    "- `save_account('TOKEN')`: Save account to disk for future use.\n",
    "- `load_account()`: Load account using stored credentials.\n",
    "- `disable_account()`: Disable account in the current session.\n",
    "- `stored_account()`: List the account stored to disk.\n",
    "- `active_account()`: List the account currently in the session.\n",
    "- `delete_account()`: Delete the saved account from disk.\n",
    "\n",
    "</div>\n"
   ]
  },
  {
   "cell_type": "code",
   "execution_count": 4,
   "id": "f5f584d9",
   "metadata": {},
   "outputs": [],
   "source": [
    "from math import pi\n",
    "\n",
    "from qiskit import QuantumCircuit, ClassicalRegister, QuantumRegister, execute, transpile, IBMQ, Aer\n",
    "from qiskit.tools.visualization import plot_histogram, plot_circuit_layout, plot_gate_map\n",
    "from qiskit.providers.ibmq import least_busy\n",
    "\n",
    "import numpy as np\n",
    "\n",
    "from config import TOKEN"
   ]
  },
  {
   "cell_type": "code",
   "execution_count": 3,
   "id": "0ec25cbf",
   "metadata": {},
   "outputs": [
    {
     "name": "stdout",
     "output_type": "stream",
     "text": [
      "Name: ipywidgets\r\n",
      "Version: 8.0.2\r\n",
      "Summary: Jupyter interactive widgets\r\n",
      "Home-page: http://jupyter.org\r\n",
      "Author: Jupyter Development Team\r\n",
      "Author-email: jupyter@googlegroups.com\r\n",
      "License: BSD 3-Clause License\r\n",
      "Location: /home/fabiocfabini/.local/lib/python3.10/site-packages\r\n",
      "Requires: ipykernel, ipython, jupyterlab-widgets, traitlets, widgetsnbextension\r\n",
      "Required-by: \r\n"
     ]
    }
   ],
   "source": [
    "!pip show ipywidgets"
   ]
  },
  {
   "cell_type": "code",
   "execution_count": 4,
   "id": "c0a311b3",
   "metadata": {},
   "outputs": [],
   "source": [
    "# Replace TOKEN with your string\n",
    "\n",
    "IBMQ.save_account(TOKEN, overwrite=True)"
   ]
  },
  {
   "cell_type": "code",
   "execution_count": 5,
   "id": "d7997767",
   "metadata": {},
   "outputs": [
    {
     "data": {
      "text/plain": [
       "<AccountProvider for IBMQ(hub='ibm-q', group='open', project='main')>"
      ]
     },
     "execution_count": 5,
     "metadata": {},
     "output_type": "execute_result"
    }
   ],
   "source": [
    "# In subsequent sessios the Token can be loaded from disk\n",
    "\n",
    "IBMQ.load_account()"
   ]
  },
  {
   "cell_type": "code",
   "execution_count": 6,
   "id": "a77ebe56",
   "metadata": {},
   "outputs": [
    {
     "data": {
      "text/plain": [
       "[<IBMQSimulator('ibmq_qasm_simulator') from IBMQ(hub='ibm-q', group='open', project='main')>,\n",
       " <IBMQBackend('ibmq_lima') from IBMQ(hub='ibm-q', group='open', project='main')>,\n",
       " <IBMQBackend('ibmq_belem') from IBMQ(hub='ibm-q', group='open', project='main')>,\n",
       " <IBMQBackend('ibmq_quito') from IBMQ(hub='ibm-q', group='open', project='main')>,\n",
       " <IBMQSimulator('simulator_statevector') from IBMQ(hub='ibm-q', group='open', project='main')>,\n",
       " <IBMQSimulator('simulator_mps') from IBMQ(hub='ibm-q', group='open', project='main')>,\n",
       " <IBMQSimulator('simulator_extended_stabilizer') from IBMQ(hub='ibm-q', group='open', project='main')>,\n",
       " <IBMQSimulator('simulator_stabilizer') from IBMQ(hub='ibm-q', group='open', project='main')>,\n",
       " <IBMQBackend('ibmq_manila') from IBMQ(hub='ibm-q', group='open', project='main')>,\n",
       " <IBMQBackend('ibm_nairobi') from IBMQ(hub='ibm-q', group='open', project='main')>,\n",
       " <IBMQBackend('ibm_oslo') from IBMQ(hub='ibm-q', group='open', project='main')>]"
      ]
     },
     "execution_count": 6,
     "metadata": {},
     "output_type": "execute_result"
    }
   ],
   "source": [
    "provider = IBMQ.get_provider(hub='ibm-q')\n",
    "provider.backends()"
   ]
  },
  {
   "cell_type": "code",
   "execution_count": 7,
   "id": "77baa546",
   "metadata": {},
   "outputs": [
    {
     "name": "stdout",
     "output_type": "stream",
     "text": [
      "ibmq_quito\n"
     ]
    }
   ],
   "source": [
    "# Use least_busy() to find out which quantum device is the least busy\n",
    "\n",
    "physical_devices = provider.backends(simulator=False, operational=True, open_pulse=False)\n",
    "\n",
    "backend = least_busy(physical_devices)\n",
    "\n",
    "# Alternative: get backend directly by name\n",
    "\n",
    "#backend = provider.get_backend('ibmq_XXXXXXX')\n",
    "\n",
    "print(backend)"
   ]
  },
  {
   "cell_type": "markdown",
   "id": "7302c5f4",
   "metadata": {},
   "source": [
    "## 1.1 Quantum devices - experimental properties<a id='exp'></a>\n",
    "\n",
    "#### [Basis Gates](https://qiskit.org/documentation/apidoc/transpiler.html)\n",
    "\n",
    "Although IBM's interface allows the user to program a quantum algorithm using a broad set of single and multi-qubit gates, these are compiled into a smaller set of compiler instruction:"
   ]
  },
  {
   "cell_type": "code",
   "execution_count": 8,
   "id": "0616a3d3",
   "metadata": {
    "scrolled": true
   },
   "outputs": [
    {
     "data": {
      "text/plain": [
       "['id', 'rz', 'sx', 'x', 'cx', 'reset']"
      ]
     },
     "execution_count": 8,
     "metadata": {},
     "output_type": "execute_result"
    }
   ],
   "source": [
    "backend.configuration().basis_gates"
   ]
  },
  {
   "cell_type": "markdown",
   "id": "b161c1a2",
   "metadata": {},
   "source": [
    "#### [Qubit map](https://qiskit.org/documentation/apidoc/transpiler.html)\n",
    "\n",
    "Besides the restriction regarding the available gates, there are further physical constraints given by the physical architecture of the chip. In fact, CNOT gates can be directly applied only to qubits that are connected."
   ]
  },
  {
   "cell_type": "code",
   "execution_count": 9,
   "id": "a069f61b",
   "metadata": {
    "scrolled": true
   },
   "outputs": [
    {
     "data": {
      "image/png": "[encoded data removed]",
      "text/plain": [
       "<Figure size 500x500 with 1 Axes>"
      ]
     },
     "execution_count": 9,
     "metadata": {},
     "output_type": "execute_result"
    }
   ],
   "source": [
    "plot_gate_map(backend)"
   ]
  },
  {
   "cell_type": "markdown",
   "id": "865347a3",
   "metadata": {},
   "source": [
    "There are ways to circumvent the chip's architecture limitations (for example, by using SWAP operations to allow for a CNOT gate between otherwise physically uncoupled qubits). \n",
    "\n",
    "The study and development of efficient mapping algorithms between logical (software) and physical qubits, for a given quantum program, has only recently started receiving serious attention from the quantum information community. **As the size and complexity of quantum processor chips increase, efficient mapping algorithms will become crucial to successful demonstrations of the applications of quantum computers.**\n",
    "\n",
    "<img src=\"https://qiskit.org/documentation/_images/mapping.png\" width=\"800px\" align=\"center\">\n",
    "\n",
    "\n",
    "#### Coherence times\n",
    "\n",
    "Current quantum computations are 'fragile'. A physical qubit does not hold its state indefinitely but undergoes random bit-flips and loses its phase over time, i.e. some interactions introduce *noise*. IBM Q has two timescales arising from relaxation and decoherence ($T_1$ and $T_2$\n",
    "respectively), which limits the number of quantum operations performed before the results are 'drowned' by noise.\n",
    "\n",
    "$T_1$ or *amplitude damping time* is the time scale over which the state of a qubit damps to state $|1\\rangle$. \n",
    "On the other hand, $T_2$, the *phase damping* relates to decoherence. Decoherence is the loss of quantum 'properties' of a quantum system. In other words, a classical mixture can express a state that undergoes decoherence. "
   ]
  },
  {
   "cell_type": "markdown",
   "id": "147a10d3",
   "metadata": {},
   "source": [
    "<div class=\"alert alert-block alert-info\">\n",
    "    \n",
    "**How are coherence times determined experimentally?**\n",
    "\n",
    "&nbsp;\n",
    "\n",
    "One way to estimate $T_1$ is to initialize a qubit to the ground state $| 0 \\rangle$ (for example, apply an $X$ gate to turn it into $| 1 \\rangle$, and measure it in the computational basis after a time $t$. \n",
    "\n",
    "The probability of the qubit staying in the $| 1 \\rangle$ state is expected to follow an exponential decay curve $e^{-t/T_1}$. \n",
    "\n",
    "To experimentally determine $T_2$, one can initialize a qubit to the ground state $| 0 \\rangle$, apply an Hadamard transform $H$ to change it into $\\frac{| 0 \\rangle + | 1 \\rangle}{\\sqrt{2}}$ and wait for a time $t$ before applying another transform $H$ and measuring the qubit on the computational basis.\n",
    "\n",
    "You can try [Relaxation and Decoherence](https://github.com/CQCL/qiskit-tutorial/blob/a2c8410ba62450d5f09d937bfbcda1497d9e5461/qiskit/ignis/relaxation_and_decoherence.ipynb).\n",
    "    \n",
    "**Note** T1 and T2 are not \"time from state x to state y\" but rather decay constants.\n",
    "                                                                                      \n",
    "</div>\n",
    "\n",
    "&nbsp;\n",
    "\n",
    "Information on a given `backend`, such as qubit configuration or noise properties, can be retrieved by calling on the instance \n",
    "properties."
   ]
  },
  {
   "cell_type": "code",
   "execution_count": 10,
   "id": "d85c1aa5",
   "metadata": {},
   "outputs": [
    {
     "data": {
      "text/html": [
       "<pre>&lt;qiskit.providers.models.backendstatus.BackendStatus object at 0x7fb88c12ece0&gt;</pre><b>name</b>: ibmq_quito<br/><b>version</b>: 1.1.34, <b>pending jobs</b>: 20<br/><b>status</b>: active<br/>"
      ],
      "text/plain": [
       "<qiskit.providers.models.backendstatus.BackendStatus at 0x7fb88c12ece0>"
      ]
     },
     "execution_count": 10,
     "metadata": {},
     "output_type": "execute_result"
    }
   ],
   "source": [
    "# Check backend status\n",
    "backend.status()"
   ]
  },
  {
   "cell_type": "code",
   "execution_count": 11,
   "id": "188be3aa",
   "metadata": {},
   "outputs": [
    {
     "data": {
      "text/plain": [
       "{'backend_name': 'ibmq_quito',\n",
       " 'backend_version': '1.1.34',\n",
       " 'n_qubits': 5,\n",
       " 'basis_gates': ['id', 'rz', 'sx', 'x', 'cx', 'reset'],\n",
       " 'gates': [{'name': 'id',\n",
       "   'parameters': [],\n",
       "   'qasm_def': 'gate id q { U(0, 0, 0) q; }',\n",
       "   'coupling_map': [[0], [1], [2], [3], [4]]},\n",
       "  {'name': 'rz',\n",
       "   'parameters': ['theta'],\n",
       "   'qasm_def': 'gate rz(theta) q { U(0, 0, theta) q; }',\n",
       "   'coupling_map': [[0], [1], [2], [3], [4]]},\n",
       "  {'name': 'sx',\n",
       "   'parameters': [],\n",
       "   'qasm_def': 'gate sx q { U(pi/2, 3*pi/2, pi/2) q; }',\n",
       "   'coupling_map': [[0], [1], [2], [3], [4]]},\n",
       "  {'name': 'x',\n",
       "   'parameters': [],\n",
       "   'qasm_def': 'gate x q { U(pi, 0, pi) q; }',\n",
       "   'coupling_map': [[0], [1], [2], [3], [4]]},\n",
       "  {'name': 'cx',\n",
       "   'parameters': [],\n",
       "   'qasm_def': 'gate cx q0, q1 { CX q0, q1; }',\n",
       "   'coupling_map': [[0, 1],\n",
       "    [1, 0],\n",
       "    [1, 2],\n",
       "    [1, 3],\n",
       "    [2, 1],\n",
       "    [3, 1],\n",
       "    [3, 4],\n",
       "    [4, 3]]},\n",
       "  {'name': 'reset', 'parameters': None, 'qasm_def': None}],\n",
       " 'local': False,\n",
       " 'simulator': False,\n",
       " 'conditional': False,\n",
       " 'open_pulse': False,\n",
       " 'memory': True,\n",
       " 'max_shots': 20000,\n",
       " 'coupling_map': [[0, 1],\n",
       "  [1, 0],\n",
       "  [1, 2],\n",
       "  [1, 3],\n",
       "  [2, 1],\n",
       "  [3, 1],\n",
       "  [3, 4],\n",
       "  [4, 3]],\n",
       " 'dynamic_reprate_enabled': True,\n",
       " 'supported_instructions': ['delay',\n",
       "  'u3',\n",
       "  'x',\n",
       "  'measure',\n",
       "  'id',\n",
       "  'reset',\n",
       "  'rz',\n",
       "  'shiftf',\n",
       "  'sx',\n",
       "  'play',\n",
       "  'u2',\n",
       "  'u1',\n",
       "  'setf',\n",
       "  'cx',\n",
       "  'acquire'],\n",
       " 'rep_delay_range': [0.0, 500.0],\n",
       " 'default_rep_delay': 250.0,\n",
       " 'max_experiments': 100,\n",
       " 'sample_name': 'family: Falcon, revision: 4, segment: T',\n",
       " 'n_registers': 1,\n",
       " 'credits_required': True,\n",
       " 'online_date': datetime.datetime(2021, 1, 8, 5, 0, tzinfo=tzutc()),\n",
       " 'description': '5 qubit device Quito',\n",
       " 'dt': 0.2222222222222222,\n",
       " 'dtm': 0.2222222222222222,\n",
       " 'processor_type': {'family': 'Falcon', 'revision': 4, 'segment': 'T'},\n",
       " 'parametric_pulses': ['gaussian', 'gaussian_square', 'drag', 'constant'],\n",
       " 'allow_q_object': True,\n",
       " 'clops': 2506,\n",
       " 'measure_esp_enabled': False,\n",
       " 'multi_meas_enabled': True,\n",
       " 'parallel_compilation': False,\n",
       " 'quantum_volume': 16,\n",
       " 'qubit_channel_mapping': [['d0', 'u1', 'u0', 'm0'],\n",
       "  ['u3', 'u0', 'u5', 'm1', 'u2', 'u1', 'u4', 'd1'],\n",
       "  ['u4', 'm2', 'd2', 'u2'],\n",
       "  ['u3', 'u7', 'u5', 'd3', 'u6', 'm3'],\n",
       "  ['u6', 'u7', 'd4', 'm4']],\n",
       " 'supported_features': ['qobj'],\n",
       " 'timing_constraints': {'acquire_alignment': 16,\n",
       "  'granularity': 16,\n",
       "  'min_length': 64,\n",
       "  'pulse_alignment': 1},\n",
       " 'uchannels_enabled': True,\n",
       " 'url': 'None',\n",
       " 'input_allowed': ['job', 'runtime'],\n",
       " 'allow_object_storage': True,\n",
       " 'pulse_num_channels': 9,\n",
       " 'pulse_num_qubits': 3,\n",
       " 'live_data': False,\n",
       " 'n_uchannels': 8,\n",
       " 'u_channel_lo': [[{'q': 1, 'scale': (1+0j)}],\n",
       "  [{'q': 0, 'scale': (1+0j)}],\n",
       "  [{'q': 2, 'scale': (1+0j)}],\n",
       "  [{'q': 3, 'scale': (1+0j)}],\n",
       "  [{'q': 1, 'scale': (1+0j)}],\n",
       "  [{'q': 1, 'scale': (1+0j)}],\n",
       "  [{'q': 4, 'scale': (1+0j)}],\n",
       "  [{'q': 3, 'scale': (1+0j)}]],\n",
       " 'meas_levels': [1, 2],\n",
       " 'qubit_lo_range': [[4.800542324836402, 5.800542324836402],\n",
       "  [4.5805801679999245, 5.580580167999925],\n",
       "  [4.822190847494214, 5.822190847494214],\n",
       "  [4.663613762117622, 5.663613762117622],\n",
       "  [4.552327711581457, 5.552327711581457]],\n",
       " 'meas_lo_range': [[6.807868157000001, 7.807868157000001],\n",
       "  [6.7292695270000005, 7.7292695270000005],\n",
       "  [6.991060108, 7.991060108],\n",
       "  [6.8547510460000005, 7.8547510460000005],\n",
       "  [6.904365522000001, 7.904365522000001]],\n",
       " 'meas_kernels': ['hw_boxcar'],\n",
       " 'discriminators': ['linear_discriminator',\n",
       "  'hw_centroid',\n",
       "  'quadratic_discriminator'],\n",
       " 'rep_times': [1000.0],\n",
       " 'meas_map': [[0, 1, 2, 3, 4]],\n",
       " 'acquisition_latency': [],\n",
       " 'conditional_latency': [],\n",
       " 'hamiltonian': {'description': 'Qubits are modeled as Duffing oscillators. In this case, the system includes higher energy states, i.e. not just |0> and |1>. The Pauli operators are generalized via the following set of transformations:\\n\\n$(\\\\mathbb{I}-\\\\sigma_{i}^z)/2 \\\\rightarrow O_i \\\\equiv b^\\\\dagger_{i} b_{i}$,\\n\\n$\\\\sigma_{+} \\\\rightarrow b^\\\\dagger$,\\n\\n$\\\\sigma_{-} \\\\rightarrow b$,\\n\\n$\\\\sigma_{i}^X \\\\rightarrow b^\\\\dagger_{i} + b_{i}$.\\n\\nQubits are coupled through resonator buses. The provided Hamiltonian has been projected into the zero excitation subspace of the resonator buses leading to an effective qubit-qubit flip-flop interaction. The qubit resonance frequencies in the Hamiltonian are the cavity dressed frequencies and not exactly what is returned by the backend defaults, which also includes the dressing due to the qubit-qubit interactions.\\n\\nQuantities are returned in angular frequencies, with units 2*pi*GHz.\\n\\nWARNING: Currently not all system Hamiltonian information is available to the public, missing values have been replaced with 0.\\n',\n",
       "  'h_latex': '\\\\begin{align} \\\\mathcal{H}/\\\\hbar = & \\\\sum_{i=0}^{4}\\\\left(\\\\frac{\\\\omega_{q,i}}{2}(\\\\mathbb{I}-\\\\sigma_i^{z})+\\\\frac{\\\\Delta_{i}}{2}(O_i^2-O_i)+\\\\Omega_{d,i}D_i(t)\\\\sigma_i^{X}\\\\right) \\\\\\\\ & + J_{0,1}(\\\\sigma_{0}^{+}\\\\sigma_{1}^{-}+\\\\sigma_{0}^{-}\\\\sigma_{1}^{+}) + J_{1,2}(\\\\sigma_{1}^{+}\\\\sigma_{2}^{-}+\\\\sigma_{1}^{-}\\\\sigma_{2}^{+}) + J_{1,3}(\\\\sigma_{1}^{+}\\\\sigma_{3}^{-}+\\\\sigma_{1}^{-}\\\\sigma_{3}^{+}) + J_{3,4}(\\\\sigma_{3}^{+}\\\\sigma_{4}^{-}+\\\\sigma_{3}^{-}\\\\sigma_{4}^{+}) \\\\\\\\ & + \\\\Omega_{d,0}(U_{0}^{(0,1)}(t))\\\\sigma_{0}^{X} + \\\\Omega_{d,1}(U_{1}^{(1,0)}(t)+U_{3}^{(1,3)}(t)+U_{2}^{(1,2)}(t))\\\\sigma_{1}^{X} \\\\\\\\ & + \\\\Omega_{d,2}(U_{4}^{(2,1)}(t))\\\\sigma_{2}^{X} + \\\\Omega_{d,3}(U_{6}^{(3,4)}(t)+U_{5}^{(3,1)}(t))\\\\sigma_{3}^{X} \\\\\\\\ & + \\\\Omega_{d,4}(U_{7}^{(4,3)}(t))\\\\sigma_{4}^{X} \\\\\\\\ \\\\end{align}',\n",
       "  'h_str': ['_SUM[i,0,4,wq{i}/2*(I{i}-Z{i})]',\n",
       "   '_SUM[i,0,4,delta{i}/2*O{i}*O{i}]',\n",
       "   '_SUM[i,0,4,-delta{i}/2*O{i}]',\n",
       "   '_SUM[i,0,4,omegad{i}*X{i}||D{i}]',\n",
       "   'jq0q1*Sp0*Sm1',\n",
       "   'jq0q1*Sm0*Sp1',\n",
       "   'jq1q2*Sp1*Sm2',\n",
       "   'jq1q2*Sm1*Sp2',\n",
       "   'jq1q3*Sp1*Sm3',\n",
       "   'jq1q3*Sm1*Sp3',\n",
       "   'jq3q4*Sp3*Sm4',\n",
       "   'jq3q4*Sm3*Sp4',\n",
       "   'omegad1*X0||U0',\n",
       "   'omegad0*X1||U1',\n",
       "   'omegad3*X1||U3',\n",
       "   'omegad2*X1||U2',\n",
       "   'omegad1*X2||U4',\n",
       "   'omegad4*X3||U6',\n",
       "   'omegad1*X3||U5',\n",
       "   'omegad3*X4||U7'],\n",
       "  'osc': {},\n",
       "  'qub': {'0': 3, '1': 3, '2': 3, '3': 3, '4': 3},\n",
       "  'vars': {'delta0': -2.0827513300148186,\n",
       "   'delta1': -2.0058778622715616,\n",
       "   'delta2': -2.0880065449040663,\n",
       "   'delta3': -2.1053738129998156,\n",
       "   'delta4': -2.005987719908062,\n",
       "   'jq0q1': 0.011708244917214646,\n",
       "   'jq1q2': 0.012036525934936945,\n",
       "   'jq1q3': 0.011454603594507373,\n",
       "   'jq3q4': 0.010153599217904038,\n",
       "   'omegad0': 1.0803551177224964,\n",
       "   'omegad1': 1.3099434612276029,\n",
       "   'omegad2': 1.017126739295568,\n",
       "   'omegad3': 1.0637955341141854,\n",
       "   'omegad4': 0.4594461477931912,\n",
       "   'wq0': 33.30428965549561,\n",
       "   'wq1': 31.922226663525127,\n",
       "   'wq2': 33.44031133498132,\n",
       "   'wq3': 32.443942122087755,\n",
       "   'wq4': 31.744711244464874}},\n",
       " 'channels': {'acquire0': {'operates': {'qubits': [0]},\n",
       "   'purpose': 'acquire',\n",
       "   'type': 'acquire'},\n",
       "  'acquire1': {'operates': {'qubits': [1]},\n",
       "   'purpose': 'acquire',\n",
       "   'type': 'acquire'},\n",
       "  'acquire2': {'operates': {'qubits': [2]},\n",
       "   'purpose': 'acquire',\n",
       "   'type': 'acquire'},\n",
       "  'acquire3': {'operates': {'qubits': [3]},\n",
       "   'purpose': 'acquire',\n",
       "   'type': 'acquire'},\n",
       "  'acquire4': {'operates': {'qubits': [4]},\n",
       "   'purpose': 'acquire',\n",
       "   'type': 'acquire'},\n",
       "  'd0': {'operates': {'qubits': [0]}, 'purpose': 'drive', 'type': 'drive'},\n",
       "  'd1': {'operates': {'qubits': [1]}, 'purpose': 'drive', 'type': 'drive'},\n",
       "  'd2': {'operates': {'qubits': [2]}, 'purpose': 'drive', 'type': 'drive'},\n",
       "  'd3': {'operates': {'qubits': [3]}, 'purpose': 'drive', 'type': 'drive'},\n",
       "  'd4': {'operates': {'qubits': [4]}, 'purpose': 'drive', 'type': 'drive'},\n",
       "  'm0': {'operates': {'qubits': [0]}, 'purpose': 'measure', 'type': 'measure'},\n",
       "  'm1': {'operates': {'qubits': [1]}, 'purpose': 'measure', 'type': 'measure'},\n",
       "  'm2': {'operates': {'qubits': [2]}, 'purpose': 'measure', 'type': 'measure'},\n",
       "  'm3': {'operates': {'qubits': [3]}, 'purpose': 'measure', 'type': 'measure'},\n",
       "  'm4': {'operates': {'qubits': [4]}, 'purpose': 'measure', 'type': 'measure'},\n",
       "  'u0': {'operates': {'qubits': [0, 1]},\n",
       "   'purpose': 'cross-resonance',\n",
       "   'type': 'control'},\n",
       "  'u1': {'operates': {'qubits': [1, 0]},\n",
       "   'purpose': 'cross-resonance',\n",
       "   'type': 'control'},\n",
       "  'u2': {'operates': {'qubits': [1, 2]},\n",
       "   'purpose': 'cross-resonance',\n",
       "   'type': 'control'},\n",
       "  'u3': {'operates': {'qubits': [1, 3]},\n",
       "   'purpose': 'cross-resonance',\n",
       "   'type': 'control'},\n",
       "  'u4': {'operates': {'qubits': [2, 1]},\n",
       "   'purpose': 'cross-resonance',\n",
       "   'type': 'control'},\n",
       "  'u5': {'operates': {'qubits': [3, 1]},\n",
       "   'purpose': 'cross-resonance',\n",
       "   'type': 'control'},\n",
       "  'u6': {'operates': {'qubits': [3, 4]},\n",
       "   'purpose': 'cross-resonance',\n",
       "   'type': 'control'},\n",
       "  'u7': {'operates': {'qubits': [4, 3]},\n",
       "   'purpose': 'cross-resonance',\n",
       "   'type': 'control'}}}"
      ]
     },
     "execution_count": 11,
     "metadata": {},
     "output_type": "execute_result"
    }
   ],
   "source": [
    "# Check configuration\n",
    "config = backend.configuration()\n",
    "\n",
    "# to_dict() displays configuration in dict form - easier to read\n",
    "config.to_dict()"
   ]
  },
  {
   "cell_type": "code",
   "execution_count": 12,
   "id": "e9428157",
   "metadata": {},
   "outputs": [
    {
     "data": {
      "text/plain": [
       "{'backend_name': 'ibmq_quito',\n",
       " 'backend_version': '1.1.34',\n",
       " 'last_update_date': datetime.datetime(2022, 10, 10, 5, 30, 44, tzinfo=tzlocal()),\n",
       " 'qubits': [[{'date': datetime.datetime(2022, 10, 10, 5, 12, 44, tzinfo=tzlocal()),\n",
       "    'name': 'T1',\n",
       "    'unit': 'us',\n",
       "    'value': 104.76186398436202},\n",
       "   {'date': datetime.datetime(2022, 10, 10, 5, 17, 6, tzinfo=tzlocal()),\n",
       "    'name': 'T2',\n",
       "    'unit': 'us',\n",
       "    'value': 168.8274987120798},\n",
       "   {'date': datetime.datetime(2022, 10, 10, 5, 30, 44, tzinfo=tzlocal()),\n",
       "    'name': 'frequency',\n",
       "    'unit': 'GHz',\n",
       "    'value': 5.300542324836402},\n",
       "   {'date': datetime.datetime(2022, 10, 10, 5, 30, 44, tzinfo=tzlocal()),\n",
       "    'name': 'anharmonicity',\n",
       "    'unit': 'GHz',\n",
       "    'value': -0.3314801694030778},\n",
       "   {'date': datetime.datetime(2022, 10, 10, 5, 8, 1, tzinfo=tzlocal()),\n",
       "    'name': 'readout_error',\n",
       "    'unit': '',\n",
       "    'value': 0.032299999999999995},\n",
       "   {'date': datetime.datetime(2022, 10, 10, 5, 8, 1, tzinfo=tzlocal()),\n",
       "    'name': 'prob_meas0_prep1',\n",
       "    'unit': '',\n",
       "    'value': 0.04600000000000004},\n",
       "   {'date': datetime.datetime(2022, 10, 10, 5, 8, 1, tzinfo=tzlocal()),\n",
       "    'name': 'prob_meas1_prep0',\n",
       "    'unit': '',\n",
       "    'value': 0.0186},\n",
       "   {'date': datetime.datetime(2022, 10, 10, 5, 8, 1, tzinfo=tzlocal()),\n",
       "    'name': 'readout_length',\n",
       "    'unit': 'ns',\n",
       "    'value': 5351.11111111111}],\n",
       "  [{'date': datetime.datetime(2022, 10, 10, 4, 3, 51, tzinfo=tzlocal()),\n",
       "    'name': 'T1',\n",
       "    'unit': 'us',\n",
       "    'value': 140.79761070233786},\n",
       "   {'date': datetime.datetime(2022, 10, 10, 5, 21, 12, tzinfo=tzlocal()),\n",
       "    'name': 'T2',\n",
       "    'unit': 'us',\n",
       "    'value': 125.6987135998919},\n",
       "   {'date': datetime.datetime(2022, 10, 10, 5, 30, 44, tzinfo=tzlocal()),\n",
       "    'name': 'frequency',\n",
       "    'unit': 'GHz',\n",
       "    'value': 5.080580167999925},\n",
       "   {'date': datetime.datetime(2022, 10, 10, 5, 30, 44, tzinfo=tzlocal()),\n",
       "    'name': 'anharmonicity',\n",
       "    'unit': 'GHz',\n",
       "    'value': -0.3192453770191231},\n",
       "   {'date': datetime.datetime(2022, 10, 10, 5, 8, 1, tzinfo=tzlocal()),\n",
       "    'name': 'readout_error',\n",
       "    'unit': '',\n",
       "    'value': 0.048799999999999955},\n",
       "   {'date': datetime.datetime(2022, 10, 10, 5, 8, 1, tzinfo=tzlocal()),\n",
       "    'name': 'prob_meas0_prep1',\n",
       "    'unit': '',\n",
       "    'value': 0.06920000000000004},\n",
       "   {'date': datetime.datetime(2022, 10, 10, 5, 8, 1, tzinfo=tzlocal()),\n",
       "    'name': 'prob_meas1_prep0',\n",
       "    'unit': '',\n",
       "    'value': 0.0284},\n",
       "   {'date': datetime.datetime(2022, 10, 10, 5, 8, 1, tzinfo=tzlocal()),\n",
       "    'name': 'readout_length',\n",
       "    'unit': 'ns',\n",
       "    'value': 5351.11111111111}],\n",
       "  [{'date': datetime.datetime(2022, 10, 10, 5, 12, 44, tzinfo=tzlocal()),\n",
       "    'name': 'T1',\n",
       "    'unit': 'us',\n",
       "    'value': 59.976737174119855},\n",
       "   {'date': datetime.datetime(2022, 10, 10, 5, 17, 6, tzinfo=tzlocal()),\n",
       "    'name': 'T2',\n",
       "    'unit': 'us',\n",
       "    'value': 52.96074681465236},\n",
       "   {'date': datetime.datetime(2022, 10, 10, 5, 30, 44, tzinfo=tzlocal()),\n",
       "    'name': 'frequency',\n",
       "    'unit': 'GHz',\n",
       "    'value': 5.322190847494214},\n",
       "   {'date': datetime.datetime(2022, 10, 10, 5, 30, 44, tzinfo=tzlocal()),\n",
       "    'name': 'anharmonicity',\n",
       "    'unit': 'GHz',\n",
       "    'value': -0.33231656282971167},\n",
       "   {'date': datetime.datetime(2022, 10, 10, 5, 8, 1, tzinfo=tzlocal()),\n",
       "    'name': 'readout_error',\n",
       "    'unit': '',\n",
       "    'value': 0.07840000000000003},\n",
       "   {'date': datetime.datetime(2022, 10, 10, 5, 8, 1, tzinfo=tzlocal()),\n",
       "    'name': 'prob_meas0_prep1',\n",
       "    'unit': '',\n",
       "    'value': 0.09219999999999995},\n",
       "   {'date': datetime.datetime(2022, 10, 10, 5, 8, 1, tzinfo=tzlocal()),\n",
       "    'name': 'prob_meas1_prep0',\n",
       "    'unit': '',\n",
       "    'value': 0.0646},\n",
       "   {'date': datetime.datetime(2022, 10, 10, 5, 8, 1, tzinfo=tzlocal()),\n",
       "    'name': 'readout_length',\n",
       "    'unit': 'ns',\n",
       "    'value': 5351.11111111111}],\n",
       "  [{'date': datetime.datetime(2022, 10, 10, 5, 12, 44, tzinfo=tzlocal()),\n",
       "    'name': 'T1',\n",
       "    'unit': 'us',\n",
       "    'value': 87.15438279499065},\n",
       "   {'date': datetime.datetime(2022, 10, 10, 5, 17, 6, tzinfo=tzlocal()),\n",
       "    'name': 'T2',\n",
       "    'unit': 'us',\n",
       "    'value': 20.47999565278833},\n",
       "   {'date': datetime.datetime(2022, 10, 10, 5, 30, 44, tzinfo=tzlocal()),\n",
       "    'name': 'frequency',\n",
       "    'unit': 'GHz',\n",
       "    'value': 5.163613762117622},\n",
       "   {'date': datetime.datetime(2022, 10, 10, 5, 30, 44, tzinfo=tzlocal()),\n",
       "    'name': 'anharmonicity',\n",
       "    'unit': 'GHz',\n",
       "    'value': -0.33508064939515236},\n",
       "   {'date': datetime.datetime(2022, 10, 10, 5, 8, 1, tzinfo=tzlocal()),\n",
       "    'name': 'readout_error',\n",
       "    'unit': '',\n",
       "    'value': 0.034399999999999986},\n",
       "   {'date': datetime.datetime(2022, 10, 10, 5, 8, 1, tzinfo=tzlocal()),\n",
       "    'name': 'prob_meas0_prep1',\n",
       "    'unit': '',\n",
       "    'value': 0.05179999999999996},\n",
       "   {'date': datetime.datetime(2022, 10, 10, 5, 8, 1, tzinfo=tzlocal()),\n",
       "    'name': 'prob_meas1_prep0',\n",
       "    'unit': '',\n",
       "    'value': 0.017},\n",
       "   {'date': datetime.datetime(2022, 10, 10, 5, 8, 1, tzinfo=tzlocal()),\n",
       "    'name': 'readout_length',\n",
       "    'unit': 'ns',\n",
       "    'value': 5351.11111111111}],\n",
       "  [{'date': datetime.datetime(2022, 10, 10, 5, 12, 44, tzinfo=tzlocal()),\n",
       "    'name': 'T1',\n",
       "    'unit': 'us',\n",
       "    'value': 57.88670671883064},\n",
       "   {'date': datetime.datetime(2022, 10, 10, 5, 21, 12, tzinfo=tzlocal()),\n",
       "    'name': 'T2',\n",
       "    'unit': 'us',\n",
       "    'value': 94.2014293401153},\n",
       "   {'date': datetime.datetime(2022, 10, 10, 5, 30, 44, tzinfo=tzlocal()),\n",
       "    'name': 'frequency',\n",
       "    'unit': 'GHz',\n",
       "    'value': 5.052327711581457},\n",
       "   {'date': datetime.datetime(2022, 10, 10, 5, 30, 44, tzinfo=tzlocal()),\n",
       "    'name': 'anharmonicity',\n",
       "    'unit': 'GHz',\n",
       "    'value': -0.3192628614050085},\n",
       "   {'date': datetime.datetime(2022, 10, 10, 5, 8, 1, tzinfo=tzlocal()),\n",
       "    'name': 'readout_error',\n",
       "    'unit': '',\n",
       "    'value': 0.03510000000000002},\n",
       "   {'date': datetime.datetime(2022, 10, 10, 5, 8, 1, tzinfo=tzlocal()),\n",
       "    'name': 'prob_meas0_prep1',\n",
       "    'unit': '',\n",
       "    'value': 0.0484},\n",
       "   {'date': datetime.datetime(2022, 10, 10, 5, 8, 1, tzinfo=tzlocal()),\n",
       "    'name': 'prob_meas1_prep0',\n",
       "    'unit': '',\n",
       "    'value': 0.0218},\n",
       "   {'date': datetime.datetime(2022, 10, 10, 5, 8, 1, tzinfo=tzlocal()),\n",
       "    'name': 'readout_length',\n",
       "    'unit': 'ns',\n",
       "    'value': 5351.11111111111}]],\n",
       " 'gates': [{'qubits': [0],\n",
       "   'gate': 'id',\n",
       "   'parameters': [{'date': datetime.datetime(2022, 10, 10, 5, 25, 49, tzinfo=tzlocal()),\n",
       "     'name': 'gate_error',\n",
       "     'unit': '',\n",
       "     'value': 0.00025997053155203534},\n",
       "    {'date': datetime.datetime(2022, 10, 10, 5, 30, 44, tzinfo=tzlocal()),\n",
       "     'name': 'gate_length',\n",
       "     'unit': 'ns',\n",
       "     'value': 35.55555555555556}],\n",
       "   'name': 'id0'},\n",
       "  {'qubits': [1],\n",
       "   'gate': 'id',\n",
       "   'parameters': [{'date': datetime.datetime(2022, 10, 10, 5, 25, 49, tzinfo=tzlocal()),\n",
       "     'name': 'gate_error',\n",
       "     'unit': '',\n",
       "     'value': 0.0003195457453385672},\n",
       "    {'date': datetime.datetime(2022, 10, 10, 5, 30, 44, tzinfo=tzlocal()),\n",
       "     'name': 'gate_length',\n",
       "     'unit': 'ns',\n",
       "     'value': 35.55555555555556}],\n",
       "   'name': 'id1'},\n",
       "  {'qubits': [2],\n",
       "   'gate': 'id',\n",
       "   'parameters': [{'date': datetime.datetime(2022, 10, 10, 5, 25, 49, tzinfo=tzlocal()),\n",
       "     'name': 'gate_error',\n",
       "     'unit': '',\n",
       "     'value': 0.00032467935212082395},\n",
       "    {'date': datetime.datetime(2022, 10, 10, 5, 30, 44, tzinfo=tzlocal()),\n",
       "     'name': 'gate_length',\n",
       "     'unit': 'ns',\n",
       "     'value': 35.55555555555556}],\n",
       "   'name': 'id2'},\n",
       "  {'qubits': [3],\n",
       "   'gate': 'id',\n",
       "   'parameters': [{'date': datetime.datetime(2022, 10, 10, 5, 25, 49, tzinfo=tzlocal()),\n",
       "     'name': 'gate_error',\n",
       "     'unit': '',\n",
       "     'value': 0.0003121243328976491},\n",
       "    {'date': datetime.datetime(2022, 10, 10, 5, 30, 44, tzinfo=tzlocal()),\n",
       "     'name': 'gate_length',\n",
       "     'unit': 'ns',\n",
       "     'value': 35.55555555555556}],\n",
       "   'name': 'id3'},\n",
       "  {'qubits': [4],\n",
       "   'gate': 'id',\n",
       "   'parameters': [{'date': datetime.datetime(2022, 10, 10, 5, 25, 49, tzinfo=tzlocal()),\n",
       "     'name': 'gate_error',\n",
       "     'unit': '',\n",
       "     'value': 0.0003619945274938311},\n",
       "    {'date': datetime.datetime(2022, 10, 10, 5, 30, 44, tzinfo=tzlocal()),\n",
       "     'name': 'gate_length',\n",
       "     'unit': 'ns',\n",
       "     'value': 35.55555555555556}],\n",
       "   'name': 'id4'},\n",
       "  {'qubits': [0],\n",
       "   'gate': 'rz',\n",
       "   'parameters': [{'date': datetime.datetime(2022, 10, 10, 5, 30, 44, tzinfo=tzlocal()),\n",
       "     'name': 'gate_error',\n",
       "     'unit': '',\n",
       "     'value': 0},\n",
       "    {'date': datetime.datetime(2022, 10, 10, 5, 30, 44, tzinfo=tzlocal()),\n",
       "     'name': 'gate_length',\n",
       "     'unit': 'ns',\n",
       "     'value': 0}],\n",
       "   'name': 'rz0'},\n",
       "  {'qubits': [1],\n",
       "   'gate': 'rz',\n",
       "   'parameters': [{'date': datetime.datetime(2022, 10, 10, 5, 30, 44, tzinfo=tzlocal()),\n",
       "     'name': 'gate_error',\n",
       "     'unit': '',\n",
       "     'value': 0},\n",
       "    {'date': datetime.datetime(2022, 10, 10, 5, 30, 44, tzinfo=tzlocal()),\n",
       "     'name': 'gate_length',\n",
       "     'unit': 'ns',\n",
       "     'value': 0}],\n",
       "   'name': 'rz1'},\n",
       "  {'qubits': [2],\n",
       "   'gate': 'rz',\n",
       "   'parameters': [{'date': datetime.datetime(2022, 10, 10, 5, 30, 44, tzinfo=tzlocal()),\n",
       "     'name': 'gate_error',\n",
       "     'unit': '',\n",
       "     'value': 0},\n",
       "    {'date': datetime.datetime(2022, 10, 10, 5, 30, 44, tzinfo=tzlocal()),\n",
       "     'name': 'gate_length',\n",
       "     'unit': 'ns',\n",
       "     'value': 0}],\n",
       "   'name': 'rz2'},\n",
       "  {'qubits': [3],\n",
       "   'gate': 'rz',\n",
       "   'parameters': [{'date': datetime.datetime(2022, 10, 10, 5, 30, 44, tzinfo=tzlocal()),\n",
       "     'name': 'gate_error',\n",
       "     'unit': '',\n",
       "     'value': 0},\n",
       "    {'date': datetime.datetime(2022, 10, 10, 5, 30, 44, tzinfo=tzlocal()),\n",
       "     'name': 'gate_length',\n",
       "     'unit': 'ns',\n",
       "     'value': 0}],\n",
       "   'name': 'rz3'},\n",
       "  {'qubits': [4],\n",
       "   'gate': 'rz',\n",
       "   'parameters': [{'date': datetime.datetime(2022, 10, 10, 5, 30, 44, tzinfo=tzlocal()),\n",
       "     'name': 'gate_error',\n",
       "     'unit': '',\n",
       "     'value': 0},\n",
       "    {'date': datetime.datetime(2022, 10, 10, 5, 30, 44, tzinfo=tzlocal()),\n",
       "     'name': 'gate_length',\n",
       "     'unit': 'ns',\n",
       "     'value': 0}],\n",
       "   'name': 'rz4'},\n",
       "  {'qubits': [0],\n",
       "   'gate': 'sx',\n",
       "   'parameters': [{'date': datetime.datetime(2022, 10, 10, 5, 25, 49, tzinfo=tzlocal()),\n",
       "     'name': 'gate_error',\n",
       "     'unit': '',\n",
       "     'value': 0.00025997053155203534},\n",
       "    {'date': datetime.datetime(2022, 10, 10, 5, 30, 44, tzinfo=tzlocal()),\n",
       "     'name': 'gate_length',\n",
       "     'unit': 'ns',\n",
       "     'value': 35.55555555555556}],\n",
       "   'name': 'sx0'},\n",
       "  {'qubits': [1],\n",
       "   'gate': 'sx',\n",
       "   'parameters': [{'date': datetime.datetime(2022, 10, 10, 5, 25, 49, tzinfo=tzlocal()),\n",
       "     'name': 'gate_error',\n",
       "     'unit': '',\n",
       "     'value': 0.0003195457453385672},\n",
       "    {'date': datetime.datetime(2022, 10, 10, 5, 30, 44, tzinfo=tzlocal()),\n",
       "     'name': 'gate_length',\n",
       "     'unit': 'ns',\n",
       "     'value': 35.55555555555556}],\n",
       "   'name': 'sx1'},\n",
       "  {'qubits': [2],\n",
       "   'gate': 'sx',\n",
       "   'parameters': [{'date': datetime.datetime(2022, 10, 10, 5, 25, 49, tzinfo=tzlocal()),\n",
       "     'name': 'gate_error',\n",
       "     'unit': '',\n",
       "     'value': 0.00032467935212082395},\n",
       "    {'date': datetime.datetime(2022, 10, 10, 5, 30, 44, tzinfo=tzlocal()),\n",
       "     'name': 'gate_length',\n",
       "     'unit': 'ns',\n",
       "     'value': 35.55555555555556}],\n",
       "   'name': 'sx2'},\n",
       "  {'qubits': [3],\n",
       "   'gate': 'sx',\n",
       "   'parameters': [{'date': datetime.datetime(2022, 10, 10, 5, 25, 49, tzinfo=tzlocal()),\n",
       "     'name': 'gate_error',\n",
       "     'unit': '',\n",
       "     'value': 0.0003121243328976491},\n",
       "    {'date': datetime.datetime(2022, 10, 10, 5, 30, 44, tzinfo=tzlocal()),\n",
       "     'name': 'gate_length',\n",
       "     'unit': 'ns',\n",
       "     'value': 35.55555555555556}],\n",
       "   'name': 'sx3'},\n",
       "  {'qubits': [4],\n",
       "   'gate': 'sx',\n",
       "   'parameters': [{'date': datetime.datetime(2022, 10, 10, 5, 25, 49, tzinfo=tzlocal()),\n",
       "     'name': 'gate_error',\n",
       "     'unit': '',\n",
       "     'value': 0.0003619945274938311},\n",
       "    {'date': datetime.datetime(2022, 10, 10, 5, 30, 44, tzinfo=tzlocal()),\n",
       "     'name': 'gate_length',\n",
       "     'unit': 'ns',\n",
       "     'value': 35.55555555555556}],\n",
       "   'name': 'sx4'},\n",
       "  {'qubits': [0],\n",
       "   'gate': 'x',\n",
       "   'parameters': [{'date': datetime.datetime(2022, 10, 10, 5, 25, 49, tzinfo=tzlocal()),\n",
       "     'name': 'gate_error',\n",
       "     'unit': '',\n",
       "     'value': 0.00025997053155203534},\n",
       "    {'date': datetime.datetime(2022, 10, 10, 5, 30, 44, tzinfo=tzlocal()),\n",
       "     'name': 'gate_length',\n",
       "     'unit': 'ns',\n",
       "     'value': 35.55555555555556}],\n",
       "   'name': 'x0'},\n",
       "  {'qubits': [1],\n",
       "   'gate': 'x',\n",
       "   'parameters': [{'date': datetime.datetime(2022, 10, 10, 5, 25, 49, tzinfo=tzlocal()),\n",
       "     'name': 'gate_error',\n",
       "     'unit': '',\n",
       "     'value': 0.0003195457453385672},\n",
       "    {'date': datetime.datetime(2022, 10, 10, 5, 30, 44, tzinfo=tzlocal()),\n",
       "     'name': 'gate_length',\n",
       "     'unit': 'ns',\n",
       "     'value': 35.55555555555556}],\n",
       "   'name': 'x1'},\n",
       "  {'qubits': [2],\n",
       "   'gate': 'x',\n",
       "   'parameters': [{'date': datetime.datetime(2022, 10, 10, 5, 25, 49, tzinfo=tzlocal()),\n",
       "     'name': 'gate_error',\n",
       "     'unit': '',\n",
       "     'value': 0.00032467935212082395},\n",
       "    {'date': datetime.datetime(2022, 10, 10, 5, 30, 44, tzinfo=tzlocal()),\n",
       "     'name': 'gate_length',\n",
       "     'unit': 'ns',\n",
       "     'value': 35.55555555555556}],\n",
       "   'name': 'x2'},\n",
       "  {'qubits': [3],\n",
       "   'gate': 'x',\n",
       "   'parameters': [{'date': datetime.datetime(2022, 10, 10, 5, 25, 49, tzinfo=tzlocal()),\n",
       "     'name': 'gate_error',\n",
       "     'unit': '',\n",
       "     'value': 0.0003121243328976491},\n",
       "    {'date': datetime.datetime(2022, 10, 10, 5, 30, 44, tzinfo=tzlocal()),\n",
       "     'name': 'gate_length',\n",
       "     'unit': 'ns',\n",
       "     'value': 35.55555555555556}],\n",
       "   'name': 'x3'},\n",
       "  {'qubits': [4],\n",
       "   'gate': 'x',\n",
       "   'parameters': [{'date': datetime.datetime(2022, 10, 10, 5, 25, 49, tzinfo=tzlocal()),\n",
       "     'name': 'gate_error',\n",
       "     'unit': '',\n",
       "     'value': 0.0003619945274938311},\n",
       "    {'date': datetime.datetime(2022, 10, 10, 5, 30, 44, tzinfo=tzlocal()),\n",
       "     'name': 'gate_length',\n",
       "     'unit': 'ns',\n",
       "     'value': 35.55555555555556}],\n",
       "   'name': 'x4'},\n",
       "  {'qubits': [3, 4],\n",
       "   'gate': 'cx',\n",
       "   'parameters': [{'date': datetime.datetime(2022, 10, 9, 6, 21, 28, tzinfo=tzlocal()),\n",
       "     'name': 'gate_error',\n",
       "     'unit': '',\n",
       "     'value': 0.01827044302059122},\n",
       "    {'date': datetime.datetime(2022, 10, 7, 5, 30, 44, tzinfo=tzlocal()),\n",
       "     'name': 'gate_length',\n",
       "     'unit': 'ns',\n",
       "     'value': 277.3333333333333}],\n",
       "   'name': 'cx3_4'},\n",
       "  {'qubits': [4, 3],\n",
       "   'gate': 'cx',\n",
       "   'parameters': [{'date': datetime.datetime(2022, 10, 9, 6, 21, 28, tzinfo=tzlocal()),\n",
       "     'name': 'gate_error',\n",
       "     'unit': '',\n",
       "     'value': 0.01827044302059122},\n",
       "    {'date': datetime.datetime(2022, 10, 7, 5, 30, 44, tzinfo=tzlocal()),\n",
       "     'name': 'gate_length',\n",
       "     'unit': 'ns',\n",
       "     'value': 312.88888888888886}],\n",
       "   'name': 'cx4_3'},\n",
       "  {'qubits': [1, 3],\n",
       "   'gate': 'cx',\n",
       "   'parameters': [{'date': datetime.datetime(2022, 10, 9, 6, 10, 48, tzinfo=tzlocal()),\n",
       "     'name': 'gate_error',\n",
       "     'unit': '',\n",
       "     'value': 0.009061873917182522},\n",
       "    {'date': datetime.datetime(2022, 10, 7, 5, 30, 44, tzinfo=tzlocal()),\n",
       "     'name': 'gate_length',\n",
       "     'unit': 'ns',\n",
       "     'value': 334.22222222222223}],\n",
       "   'name': 'cx1_3'},\n",
       "  {'qubits': [3, 1],\n",
       "   'gate': 'cx',\n",
       "   'parameters': [{'date': datetime.datetime(2022, 10, 9, 6, 10, 48, tzinfo=tzlocal()),\n",
       "     'name': 'gate_error',\n",
       "     'unit': '',\n",
       "     'value': 0.009061873917182522},\n",
       "    {'date': datetime.datetime(2022, 10, 7, 5, 30, 44, tzinfo=tzlocal()),\n",
       "     'name': 'gate_length',\n",
       "     'unit': 'ns',\n",
       "     'value': 369.77777777777777}],\n",
       "   'name': 'cx3_1'},\n",
       "  {'qubits': [2, 1],\n",
       "   'gate': 'cx',\n",
       "   'parameters': [{'date': datetime.datetime(2022, 10, 9, 6, 2, 12, tzinfo=tzlocal()),\n",
       "     'name': 'gate_error',\n",
       "     'unit': '',\n",
       "     'value': 0.007725540306385004},\n",
       "    {'date': datetime.datetime(2022, 10, 7, 5, 30, 44, tzinfo=tzlocal()),\n",
       "     'name': 'gate_length',\n",
       "     'unit': 'ns',\n",
       "     'value': 263.1111111111111}],\n",
       "   'name': 'cx2_1'},\n",
       "  {'qubits': [1, 2],\n",
       "   'gate': 'cx',\n",
       "   'parameters': [{'date': datetime.datetime(2022, 10, 9, 6, 2, 12, tzinfo=tzlocal()),\n",
       "     'name': 'gate_error',\n",
       "     'unit': '',\n",
       "     'value': 0.007725540306385004},\n",
       "    {'date': datetime.datetime(2022, 10, 7, 5, 30, 44, tzinfo=tzlocal()),\n",
       "     'name': 'gate_length',\n",
       "     'unit': 'ns',\n",
       "     'value': 298.66666666666663}],\n",
       "   'name': 'cx1_2'},\n",
       "  {'qubits': [0, 1],\n",
       "   'gate': 'cx',\n",
       "   'parameters': [{'date': datetime.datetime(2022, 10, 9, 5, 51, 19, tzinfo=tzlocal()),\n",
       "     'name': 'gate_error',\n",
       "     'unit': '',\n",
       "     'value': 0.0069973003665530775},\n",
       "    {'date': datetime.datetime(2022, 10, 7, 5, 30, 44, tzinfo=tzlocal()),\n",
       "     'name': 'gate_length',\n",
       "     'unit': 'ns',\n",
       "     'value': 234.66666666666666}],\n",
       "   'name': 'cx0_1'},\n",
       "  {'qubits': [1, 0],\n",
       "   'gate': 'cx',\n",
       "   'parameters': [{'date': datetime.datetime(2022, 10, 9, 5, 51, 19, tzinfo=tzlocal()),\n",
       "     'name': 'gate_error',\n",
       "     'unit': '',\n",
       "     'value': 0.0069973003665530775},\n",
       "    {'date': datetime.datetime(2022, 10, 7, 5, 30, 44, tzinfo=tzlocal()),\n",
       "     'name': 'gate_length',\n",
       "     'unit': 'ns',\n",
       "     'value': 270.22222222222223}],\n",
       "   'name': 'cx1_0'},\n",
       "  {'qubits': [0],\n",
       "   'gate': 'reset',\n",
       "   'parameters': [{'date': datetime.datetime(2022, 10, 10, 5, 30, 44, tzinfo=tzlocal()),\n",
       "     'name': 'gate_length',\n",
       "     'unit': 'ns',\n",
       "     'value': 5920}],\n",
       "   'name': 'reset0'},\n",
       "  {'qubits': [1],\n",
       "   'gate': 'reset',\n",
       "   'parameters': [{'date': datetime.datetime(2022, 10, 10, 5, 30, 44, tzinfo=tzlocal()),\n",
       "     'name': 'gate_length',\n",
       "     'unit': 'ns',\n",
       "     'value': 5920}],\n",
       "   'name': 'reset1'},\n",
       "  {'qubits': [2],\n",
       "   'gate': 'reset',\n",
       "   'parameters': [{'date': datetime.datetime(2022, 10, 10, 5, 30, 44, tzinfo=tzlocal()),\n",
       "     'name': 'gate_length',\n",
       "     'unit': 'ns',\n",
       "     'value': 5920}],\n",
       "   'name': 'reset2'},\n",
       "  {'qubits': [3],\n",
       "   'gate': 'reset',\n",
       "   'parameters': [{'date': datetime.datetime(2022, 10, 10, 5, 30, 44, tzinfo=tzlocal()),\n",
       "     'name': 'gate_length',\n",
       "     'unit': 'ns',\n",
       "     'value': 5920}],\n",
       "   'name': 'reset3'},\n",
       "  {'qubits': [4],\n",
       "   'gate': 'reset',\n",
       "   'parameters': [{'date': datetime.datetime(2022, 10, 10, 5, 30, 44, tzinfo=tzlocal()),\n",
       "     'name': 'gate_length',\n",
       "     'unit': 'ns',\n",
       "     'value': 5920}],\n",
       "   'name': 'reset4'}],\n",
       " 'general': [{'date': datetime.datetime(2022, 10, 10, 5, 30, 44, tzinfo=tzlocal()),\n",
       "   'name': 'jq_01',\n",
       "   'unit': 'GHz',\n",
       "   'value': 0.00186342505350527},\n",
       "  {'date': datetime.datetime(2022, 10, 10, 5, 30, 44, tzinfo=tzlocal()),\n",
       "   'name': 'zz_01',\n",
       "   'unit': 'GHz',\n",
       "   'value': -7.496747784218088e-05},\n",
       "  {'date': datetime.datetime(2022, 10, 10, 5, 30, 44, tzinfo=tzlocal()),\n",
       "   'name': 'jq_12',\n",
       "   'unit': 'GHz',\n",
       "   'value': 0.001915672600199012},\n",
       "  {'date': datetime.datetime(2022, 10, 10, 5, 30, 44, tzinfo=tzlocal()),\n",
       "   'name': 'zz_12',\n",
       "   'unit': 'GHz',\n",
       "   'value': -9.390005618575403e-05},\n",
       "  {'date': datetime.datetime(2022, 10, 10, 5, 30, 44, tzinfo=tzlocal()),\n",
       "   'name': 'jq_13',\n",
       "   'unit': 'GHz',\n",
       "   'value': 0.0018230567832240405},\n",
       "  {'date': datetime.datetime(2022, 10, 10, 5, 30, 44, tzinfo=tzlocal()),\n",
       "   'name': 'zz_13',\n",
       "   'unit': 'GHz',\n",
       "   'value': -4.288984169653279e-05},\n",
       "  {'date': datetime.datetime(2022, 10, 10, 5, 30, 44, tzinfo=tzlocal()),\n",
       "   'name': 'jq_34',\n",
       "   'unit': 'GHz',\n",
       "   'value': 0.0016159955057034297},\n",
       "  {'date': datetime.datetime(2022, 10, 10, 5, 30, 44, tzinfo=tzlocal()),\n",
       "   'name': 'zz_34',\n",
       "   'unit': 'GHz',\n",
       "   'value': -3.547813333704521e-05}]}"
      ]
     },
     "execution_count": 12,
     "metadata": {},
     "output_type": "execute_result"
    }
   ],
   "source": [
    "properties = backend.properties()\n",
    "\n",
    "properties.to_dict()"
   ]
  },
  {
   "cell_type": "markdown",
   "id": "31365a12",
   "metadata": {},
   "source": [
    "&nbsp;\n",
    "\n",
    "\n",
    "## 1.2 Interactive tools <a id='ipywid'></a>\n",
    "\n",
    "The large amount of information on different backends can better be visualized using the integrated interactive tools."
   ]
  },
  {
   "cell_type": "code",
   "execution_count": 14,
   "id": "514cb353",
   "metadata": {},
   "outputs": [],
   "source": [
    "# Interactive tools\n",
    "import qiskit.tools.jupyter\n",
    "%matplotlib inline"
   ]
  },
  {
   "cell_type": "code",
   "execution_count": 15,
   "id": "72639545",
   "metadata": {},
   "outputs": [
    {
     "data": {
      "text/html": [
       "<h3>Version Information</h3><table><tr><th>Qiskit Software</th><th>Version</th></tr><tr><td><code>qiskit-terra</code></td><td>0.21.2</td></tr><tr><td><code>qiskit-aer</code></td><td>0.11.0</td></tr><tr><td><code>qiskit-ibmq-provider</code></td><td>0.19.2</td></tr><tr><td><code>qiskit</code></td><td>0.38.0</td></tr><tr><th>System information</th></tr><tr><td>Python version</td><td>3.10.6</td></tr><tr><td>Python compiler</td><td>GCC 11.3.0</td></tr><tr><td>Python build</td><td>main, Aug 10 2022 11:40:04</td></tr><tr><td>OS</td><td>Linux</td></tr><tr><td>CPUs</td><td>8</td></tr><tr><td>Memory (Gb)</td><td>15.266658782958984</td></tr><tr><td colspan='2'>Mon Oct 10 12:25:25 2022 WEST</td></tr></table>"
      ],
      "text/plain": [
       "<IPython.core.display.HTML object>"
      ]
     },
     "metadata": {},
     "output_type": "display_data"
    }
   ],
   "source": [
    "%qiskit_version_table"
   ]
  },
  {
   "cell_type": "markdown",
   "id": "2db3088d",
   "metadata": {},
   "source": [
    "<div class=\"alert alert-block alert-warning\">\n",
    " \n",
    "On which computer should you run your experiments today?\n",
    "    \n",
    "</div>"
   ]
  },
  {
   "cell_type": "code",
   "execution_count": 16,
   "id": "e6330f8b",
   "metadata": {},
   "outputs": [
    {
     "data": {
      "application/vnd.jupyter.widget-view+json": {
       "model_id": "c24ba4ad93f241cda759866c9135919e",
       "version_major": 2,
       "version_minor": 0
      },
      "text/plain": [
       "VBox(children=(HTML(value=\"<h2 style ='color:#ffffff; background-color:#000000;padding-top: 1%; padding-bottom…"
      ]
     },
     "metadata": {},
     "output_type": "display_data"
    }
   ],
   "source": [
    "%qiskit_backend_overview"
   ]
  },
  {
   "cell_type": "markdown",
   "id": "5c0f071d",
   "metadata": {},
   "source": [
    "After importing the tools, simply invoking a backend instance displays graphical information on the backend."
   ]
  },
  {
   "cell_type": "code",
   "execution_count": 17,
   "id": "2954f3a1",
   "metadata": {},
   "outputs": [
    {
     "data": {
      "application/vnd.jupyter.widget-view+json": {
       "model_id": "ea4833c7b82c4f80a3997b4c6110b81b",
       "version_major": 2,
       "version_minor": 0
      },
      "text/plain": [
       "VBox(children=(HTML(value=\"<h1 style='color:#ffffff;background-color:#000000;padding-top: 1%;padding-bottom: 1…"
      ]
     },
     "metadata": {},
     "output_type": "display_data"
    },
    {
     "data": {
      "text/plain": [
       "<IBMQBackend('ibmq_quito') from IBMQ(hub='ibm-q', group='open', project='main')>"
      ]
     },
     "execution_count": 17,
     "metadata": {},
     "output_type": "execute_result"
    }
   ],
   "source": [
    "backend"
   ]
  },
  {
   "cell_type": "markdown",
   "id": "f3cebc90",
   "metadata": {},
   "source": [
    "&nbsp;\n",
    "\n",
    "\n",
    "## 1.3 Quantum half-adder, revisited <a id='qha'></a>\n",
    "\n",
    "&nbsp;\n",
    "\n",
    "\n",
    "Recall the quantum half-adder circuit from the previous class, which adds the states of $q_0$ and $q_1$, and outputs the *sum* S to $q_1$ and the *carry* C to an additional qubit $q_2$:\n",
    "\n",
    "&nbsp;\n",
    "\n",
    "| $q_0$ (input) = A | $q_1$ (input) = B | $q_1$ (output) = S  | $q_2$ (output) = C |\n",
    "|-----------------|-----------------|-------------------|------------------|\n",
    "|        0        |         0       |      0            |      0     |\n",
    "|        1        |         0       |      1            |      0     |\n",
    "|        0        |         1       |      1            |      0     |\n",
    "|        1        |         1       |      0            |      1     |\n",
    "\n",
    "\n",
    "&nbsp;\n",
    "\n",
    "\n",
    "We can now compare the results of the quantum half adder under ideal conditions (when using the simulator) and when executed on a physical quantum processor."
   ]
  },
  {
   "cell_type": "code",
   "execution_count": 18,
   "id": "fee16794",
   "metadata": {},
   "outputs": [
    {
     "data": {
      "image/png": "[encoded data removed]",
      "text/plain": [
       "<Figure size 723.581x367.889 with 1 Axes>"
      ]
     },
     "execution_count": 18,
     "metadata": {},
     "output_type": "execute_result"
    }
   ],
   "source": [
    "# Create registers\n",
    "qr = QuantumRegister(3)\n",
    "cr = ClassicalRegister(3)\n",
    "\n",
    "# Quantum Circuit\n",
    "half_adder = QuantumCircuit(qr, cr)\n",
    "\n",
    "# We are adding q0 = |1> and q1 = |1>\n",
    "half_adder.x(qr[0])\n",
    "half_adder.x(qr[1])\n",
    "\n",
    "# Perform operation for quantum half-adder\n",
    "half_adder.ccx(qr[0], qr[1], qr[2])\n",
    "half_adder.cx(qr[0], qr[1])\n",
    "\n",
    "# Barriers make circuits prettier\n",
    "half_adder.barrier()\n",
    "\n",
    "# Measure\n",
    "half_adder.measure(qr, cr)\n",
    "\n",
    "# Draw\n",
    "half_adder.draw(output='mpl')"
   ]
  },
  {
   "cell_type": "markdown",
   "id": "881610e1",
   "metadata": {},
   "source": [
    "Recall that under noiseless settings and deterministic inputs (since inputs are not in superposition), the output is deterministic: $q_0 = 1$, $q_1 = 0$ (sum) and $q_2 = 1$ (carry). \n",
    "\n",
    "<div class=\"alert alert-block alert-warning\">\n",
    "What is the expected outcome?\n",
    "</div>"
   ]
  },
  {
   "cell_type": "code",
   "execution_count": 19,
   "id": "76296c0d",
   "metadata": {},
   "outputs": [
    {
     "data": {
      "image/png": "[encoded data removed]",
      "text/plain": [
       "<Figure size 700x500 with 1 Axes>"
      ]
     },
     "execution_count": 19,
     "metadata": {},
     "output_type": "execute_result"
    }
   ],
   "source": [
    "sim_backend = Aer.get_backend(\"qasm_simulator\")\n",
    "\n",
    "shots = 1024\n",
    "\n",
    "# Execute the circuit:\n",
    "\n",
    "job_half_adder_sim = execute(half_adder, sim_backend)\n",
    "\n",
    "result_half_adder_sim = job_half_adder_sim.result()\n",
    "counts_half_adder_sim = result_half_adder_sim.get_counts(half_adder)\n",
    "\n",
    "# plot histogram:\n",
    "plot_histogram(counts_half_adder_sim)"
   ]
  },
  {
   "cell_type": "markdown",
   "id": "e35b8675",
   "metadata": {},
   "source": [
    "#### Visualizing circuit decompositions\n",
    "\n",
    "Before being executed on a physical backend, the circuit is decomposed. This decomposition can be visualized using the `transpile` function."
   ]
  },
  {
   "cell_type": "code",
   "execution_count": 20,
   "id": "84512822",
   "metadata": {},
   "outputs": [
    {
     "data": {
      "image/png": "[encoded data removed]",
      "text/plain": [
       "<Figure size 2171.92x535.111 with 1 Axes>"
      ]
     },
     "execution_count": 20,
     "metadata": {},
     "output_type": "execute_result"
    }
   ],
   "source": [
    "# To visualize the decomposition, we have to specify the backend\n",
    "# get_backend() to define backend\n",
    "physical_backend = provider.get_backend('ibmq_belem')\n",
    "\n",
    "# With transpile we can see exactly what is running on the backend\n",
    "qc_real = transpile(half_adder, backend=physical_backend)\n",
    "\n",
    "qc_real.draw(output='mpl')"
   ]
  },
  {
   "cell_type": "markdown",
   "id": "e821e431",
   "metadata": {},
   "source": [
    "#### Comparing the number of layers\n",
    "\n",
    "We can compare the number of *layers* between the original and the compiled circuit. \n",
    "\n",
    "A *layer* is comprised of all quantum operations that can be executed concurrently, before the quantum device executes the next cycle of operations.\n",
    "\n",
    "<img src=\"https://qiskit.org/documentation/locale/de_DE/_images/depth.gif\" width=\"800 px\" />"
   ]
  },
  {
   "cell_type": "code",
   "execution_count": 21,
   "id": "22e6c526",
   "metadata": {},
   "outputs": [
    {
     "name": "stdout",
     "output_type": "stream",
     "text": [
      "Original circuit\n",
      "Depth: 4\n",
      "Gate counts: OrderedDict([('measure', 3), ('x', 2), ('ccx', 1), ('cx', 1), ('barrier', 1)])\n",
      "\n",
      "Optimization Level 0\n",
      "Depth: 23\n",
      "Gate counts: OrderedDict([('cx', 16), ('rz', 11), ('measure', 3), ('x', 2), ('sx', 2), ('barrier', 1)])\n",
      "\n",
      "Optimization Level 1\n",
      "Depth: 20\n",
      "Gate counts: OrderedDict([('cx', 11), ('rz', 10), ('measure', 3), ('x', 2), ('sx', 2), ('barrier', 1)])\n",
      "\n",
      "Optimization Level 2\n",
      "Depth: 20\n",
      "Gate counts: OrderedDict([('cx', 11), ('rz', 10), ('measure', 3), ('x', 2), ('sx', 2), ('barrier', 1)])\n",
      "\n",
      "Optimization Level 3\n",
      "Depth: 20\n",
      "Gate counts: OrderedDict([('rz', 11), ('cx', 8), ('measure', 3), ('x', 2), ('sx', 2), ('barrier', 1)])\n",
      "\n"
     ]
    }
   ],
   "source": [
    "print('Original circuit')\n",
    "print('Depth:', half_adder.depth())\n",
    "print('Gate counts:', half_adder.count_ops())\n",
    "print()\n",
    "\n",
    "circlist=[]\n",
    "for kk in range(4):\n",
    "    circ = transpile(half_adder, backend, optimization_level=kk)\n",
    "    circlist.append(circ)\n",
    "    print('Optimization Level {}'.format(kk))\n",
    "    print('Depth:', circ.depth())\n",
    "    print('Gate counts:', circ.count_ops())\n",
    "    print()"
   ]
  },
  {
   "cell_type": "markdown",
   "id": "a83db1b9",
   "metadata": {},
   "source": [
    "We can also visually see which qubits are used for the circuit."
   ]
  },
  {
   "cell_type": "code",
   "execution_count": 22,
   "id": "4eec2a4f",
   "metadata": {
    "scrolled": true
   },
   "outputs": [
    {
     "data": {
      "image/png": "[encoded data removed]",
      "text/plain": [
       "<Figure size 500x500 with 1 Axes>"
      ]
     },
     "execution_count": 22,
     "metadata": {},
     "output_type": "execute_result"
    }
   ],
   "source": [
    "plot_circuit_layout(circlist[0], physical_backend)"
   ]
  },
  {
   "cell_type": "code",
   "execution_count": 23,
   "id": "76ff07b7",
   "metadata": {
    "scrolled": true
   },
   "outputs": [
    {
     "data": {
      "image/png": "[encoded data removed]",
      "text/plain": [
       "<Figure size 500x500 with 1 Axes>"
      ]
     },
     "execution_count": 23,
     "metadata": {},
     "output_type": "execute_result"
    }
   ],
   "source": [
    "plot_circuit_layout(circlist[3], physical_backend)"
   ]
  },
  {
   "cell_type": "markdown",
   "id": "72745085",
   "metadata": {},
   "source": [
    "#### Comparing results"
   ]
  },
  {
   "cell_type": "markdown",
   "id": "a8afe6f1",
   "metadata": {},
   "source": [
    "<div class=\"alert alert-block alert-danger\">\n",
    "\n",
    "**Run the following cells only at the end of the class.**\n",
    "\n",
    "</div>"
   ]
  },
  {
   "cell_type": "code",
   "execution_count": 24,
   "id": "92736850",
   "metadata": {},
   "outputs": [
    {
     "data": {
      "application/vnd.jupyter.widget-view+json": {
       "model_id": "4fd233b707c547fbb1d1b07826ed69e7",
       "version_major": 2,
       "version_minor": 0
      },
      "text/plain": [
       "Accordion(children=(VBox(layout=Layout(max_width='710px', min_width='710px')),), layout=Layout(max_height='500…"
      ]
     },
     "metadata": {},
     "output_type": "display_data"
    },
    {
     "data": {
      "application/javascript": "\n        const isLab = window['Jupyter'] === undefined;\n        const notebook = document.querySelector( isLab ? 'div.jp-Notebook' : '#site');\n        const jobWidget = document.querySelector('div.job_widget');\n        notebook.prepend(jobWidget);\n        jobWidget.style.zIndex = '999';\n        jobWidget.style.position = isLab ? 'sticky' : 'fixed';\n        jobWidget.style.boxShadow = '5px 5px 5px -3px black';\n        jobWidget.style.opacity = '0.95';\n        if (isLab) {\n            jobWidget.style.top = '0';\n            jobWidget.style.left = '0';\n        }\n        ",
      "text/plain": [
       "<IPython.core.display.Javascript object>"
      ]
     },
     "metadata": {},
     "output_type": "display_data"
    }
   ],
   "source": [
    "# Execute the DJ algorithm on physical backend\n",
    "\n",
    "# Enable job monitoring\n",
    "%qiskit_job_watcher\n",
    "\n",
    "# To disable: %qiskit_disable_job_watcher\n",
    "#\n",
    "job_ha_real = execute(circlist[1], physical_backend, shots=shots)"
   ]
  },
  {
   "cell_type": "code",
   "execution_count": 25,
   "id": "ca8e036e",
   "metadata": {},
   "outputs": [
    {
     "data": {
      "text/plain": [
       "'634401374bc4b8df149ea290'"
      ]
     },
     "execution_count": 25,
     "metadata": {},
     "output_type": "execute_result"
    }
   ],
   "source": [
    "# We can save the job ID to retrieve results even after closing the notebook\n",
    "job_ha_real.job_id()"
   ]
  },
  {
   "cell_type": "code",
   "execution_count": 26,
   "id": "84d375c5",
   "metadata": {},
   "outputs": [],
   "source": [
    "# This can be achieved using the retrieve_job('ID') method\n",
    "#job_ha_real = physical_backend.retrieve_job('ID')\n",
    "job_ha_real = physical_backend.retrieve_job('6343f81168409f8cc92c543b')"
   ]
  },
  {
   "cell_type": "code",
   "execution_count": 27,
   "id": "b0909b9f",
   "metadata": {},
   "outputs": [
    {
     "data": {
      "text/plain": [
       "<JobStatus.QUEUED: 'job is queued'>"
      ]
     },
     "execution_count": 27,
     "metadata": {},
     "output_type": "execute_result"
    }
   ],
   "source": [
    "# We can also check the job status\n",
    "job_ha_real.status()\n"
   ]
  },
  {
   "cell_type": "code",
   "execution_count": null,
   "id": "6ae0bc24",
   "metadata": {},
   "outputs": [],
   "source": [
    "result_ha_real = job_ha_real.result()\n",
    "counts_ha_real = result_ha_real.get_counts(half_adder)\n",
    "\n",
    "plot_histogram([counts_ha_real, counts_half_adder_sim], legend=['real device', 'ideal'])"
   ]
  },
  {
   "cell_type": "markdown",
   "id": "15b045c4",
   "metadata": {},
   "source": [
    "# 2. Superdense Coding <a id='superdense'></a>"
   ]
  },
  {
   "cell_type": "markdown",
   "id": "ae4dc79f",
   "metadata": {},
   "source": [
    "In 1970, Charles H. Bennett and Stephen Wiesner proposed the Superdense Coding protocol for the first time. This protocol is thought of as the opposite of quantum teleportation, which transmits one qubit using two classical bits. Superdense coding transmits two classical bits using one qubit. \n",
    "\n",
    "![process](https://qiskit.org/textbook/ch-algorithms/images/superdense.jpg)\n",
    "\n",
    "1. As illustrated above, the protocol starts with a third party (Charlie) preparing the entanglement between two quantum states. \n",
    "\n",
    "2. The two qubits are then sent to the sender (Alice) and the receiver (Bob):\n",
    "$$|\\psi\\rangle_{AB} = \\frac{1}{\\sqrt{2}}(|0\\rangle_A \\otimes |0\\rangle_B + |1\\rangle_A \\otimes |1\\rangle_B)$$\n",
    "The first qubit, denoted by subscript $A$, belongs to Alice, and the second qubit, $B$, belongs to Bob.\n",
    "\n",
    "3. The following step is encoding. Alice needs to apply a set of quantum gates to her qubit depending on the 2 bits of classical information she wants to send. \n",
    "\n",
    "|Intended Message| Applied Gate| Resulting State ($\\times \\frac{1}{\\sqrt{2}}$)|\n",
    "|--|--|--|\n",
    "|00|I| $|00\\rangle+ |11\\rangle$\n",
    "|01|X| $|10\\rangle+ |01\\rangle$\n",
    "|10|Z| $|00\\rangle- |11\\rangle$\n",
    "|11|ZX|$-|10\\rangle+ |01\\rangle$\n",
    "\n",
    "4. When Bob receives Alice's qubit, he only has to apply the restoration operation. \n",
    "\n",
    "|Bob Receives ($\\times \\frac{1}{\\sqrt{2}}$)| After the CNOT-gate ($\\times \\frac{1}{\\sqrt{2}}$)| After H-gate|\n",
    "|--|--|--|\n",
    "|$|00\\rangle+ |11\\rangle$| $|00\\rangle+ |10\\rangle$ | $|00\\rangle$|\n",
    "|$|10\\rangle+ |01\\rangle$| $|11\\rangle+ |01\\rangle$ | $|01\\rangle$|\n",
    "|$|00\\rangle- |11\\rangle$| $|00\\rangle- |10\\rangle$ | $|10\\rangle$|\n",
    "|$-|10\\rangle+ |01\\rangle$|$-|11\\rangle+ |01\\rangle$| $|11\\rangle$|\n"
   ]
  },
  {
   "cell_type": "markdown",
   "id": "3d48b2dc",
   "metadata": {},
   "source": [
    "<div class=\"alert alert-block alert-warning\">\n",
    "\n",
    "**Implementing the superdense coding protocol**\n",
    "\n",
    "&nbsp;\n",
    "\n",
    "Implement the superdense coding admitting that Alice wants to send the bits $11$\n",
    "\n",
    "&nbsp;\n",
    "\n",
    "\n",
    "The protocol can be broken down into several steps:\n",
    "\n",
    "- Entangle qubits `qa` and `qb` so that $|qa \\; qb \\rangle = |00\\rangle + |11\\rangle$. This can be achieved with a Hadamard and a CNOT gate;\n",
    "\n",
    "- Encode the message in Alice's qubit.\n",
    "\n",
    "- Decode the message.\n",
    "\n",
    "- And measure.\n",
    "    \n",
    "Finally, simulate your program.\n",
    "    \n",
    "</div>"
   ]
  },
  {
   "cell_type": "markdown",
   "id": "da223bec",
   "metadata": {},
   "source": [
    "Refs: \n",
    "* [Qiskit superdense coding](https://qiskit.org/textbook/ch-algorithms/superdense-coding.html)\n",
    "* [Wiki superdense coding](https://en.wikipedia.org/wiki/Superdense_coding)"
   ]
  },
  {
   "cell_type": "code",
   "execution_count": 17,
   "id": "8d611126",
   "metadata": {},
   "outputs": [
    {
     "data": {
      "image/png": "[encoded data removed]",
      "text/plain": [
       "<Figure size 993.048x284.278 with 1 Axes>"
      ]
     },
     "execution_count": 17,
     "metadata": {},
     "output_type": "execute_result"
    }
   ],
   "source": [
    "# Qubits A, B and C as separate registers\n",
    "qr = QuantumRegister(2)\n",
    "\n",
    "# Alice needs two bits; Bob needs one\n",
    "c_bob = ClassicalRegister(2)\n",
    "\n",
    "# Initialize circuit\n",
    "sdc_circuit = QuantumCircuit(qr, c_bob)\n",
    "\n",
    "# Entangle qa and qb\n",
    "sdc_circuit.h(qr[0])\n",
    "sdc_circuit.cx(qr[0], qr[1])\n",
    "\n",
    "sdc_circuit.barrier()\n",
    "# Encode\n",
    "# sdc_circuit.z(qr[0]) \n",
    "# sdc_circuit.x(qr[0])\n",
    "\n",
    "sdc_circuit.barrier()\n",
    "# Decode\n",
    "sdc_circuit.cx(qr[0], qr[1])\n",
    "sdc_circuit.h(qr[0])\n",
    "\n",
    "sdc_circuit.barrier()\n",
    "# Measure \n",
    "sdc_circuit.measure(qr, c_bob)\n",
    "\n",
    "# Draw circuit\n",
    "sdc_circuit.draw(output='mpl')"
   ]
  },
  {
   "cell_type": "code",
   "execution_count": 18,
   "id": "a677a195",
   "metadata": {},
   "outputs": [
    {
     "data": {
      "image/png": "[encoded data removed]",
      "text/plain": [
       "<Figure size 700x500 with 1 Axes>"
      ]
     },
     "execution_count": 18,
     "metadata": {},
     "output_type": "execute_result"
    }
   ],
   "source": [
    "sim_backend = Aer.get_backend(\"qasm_simulator\")\n",
    "\n",
    "# Simulate\n",
    "job_sdc_sim = execute(sdc_circuit, sim_backend, shots=1000)\n",
    "result_sdc_sim = job_sdc_sim.result()\n",
    "counts_sdc_sim = result_sdc_sim.get_counts(sdc_circuit)\n",
    "\n",
    "# Plot histogram\n",
    "plot_histogram(counts_sdc_sim)"
   ]
  }
 ],
 "metadata": {
  "kernelspec": {
   "display_name": "Python 3 (ipykernel)",
   "language": "python",
   "name": "python3"
  },
  "language_info": {
   "codemirror_mode": {
    "name": "ipython",
    "version": 3
   },
   "file_extension": ".py",
   "mimetype": "text/x-python",
   "name": "python",
   "nbconvert_exporter": "python",
   "pygments_lexer": "ipython3",
   "version": "3.10.6"
  },
  "vscode": {
   "interpreter": {
    "hash": "23855d5a0fae6cecd711e5c1c265dda84f234bf4dc5d2439a1556c4ec887cacb"
   }
  }
 },
 "nbformat": 4,
 "nbformat_minor": 5
}
